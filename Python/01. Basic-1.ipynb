{
 "cells": [
  {
   "cell_type": "markdown",
   "id": "13e82469-9d9f-4838-a3db-ca1b9f061e68",
   "metadata": {},
   "source": [
    "## Datatypes"
   ]
  },
  {
   "cell_type": "code",
   "execution_count": null,
   "id": "547508b6-c33f-4506-aede-c6ed41dedf91",
   "metadata": {},
   "outputs": [],
   "source": [
    "int = 387"
   ]
  },
  {
   "cell_type": "code",
   "execution_count": null,
   "id": "a11bd882-c267-4249-beb0-12b9fa45e171",
   "metadata": {},
   "outputs": [],
   "source": [
    "float = 45.67"
   ]
  },
  {
   "cell_type": "code",
   "execution_count": null,
   "id": "8a4d1781-0f89-475d-addb-fe71929eb261",
   "metadata": {},
   "outputs": [],
   "source": [
    "complex = 32 + 6j"
   ]
  },
  {
   "cell_type": "code",
   "execution_count": null,
   "id": "0db66fd9-5c8f-4d9d-818c-76c5d8a98b34",
   "metadata": {},
   "outputs": [],
   "source": [
    "Bool = True / False"
   ]
  },
  {
   "cell_type": "code",
   "execution_count": null,
   "id": "0044488f-d80f-4522-8802-f2ecc9f33b01",
   "metadata": {},
   "outputs": [],
   "source": [
    "String = \" yt%6True\", ' True'"
   ]
  },
  {
   "cell_type": "code",
   "execution_count": null,
   "id": "f17cc7bc-ab15-42d2-ac20-aca1321b96b5",
   "metadata": {},
   "outputs": [],
   "source": [
    "list = [ 34, 78.005, \"py\"]  "
   ]
  },
  {
   "cell_type": "code",
   "execution_count": null,
   "id": "f44ad32a-590a-43c6-9f17-80c6bfff3fb6",
   "metadata": {},
   "outputs": [],
   "source": [
    "tuple = (34, 78.005, \"py\")"
   ]
  },
  {
   "cell_type": "code",
   "execution_count": 3,
   "id": "68fa75fe-2b77-460c-97b8-0b9cd382559e",
   "metadata": {},
   "outputs": [
    {
     "ename": "TypeError",
     "evalue": "unhashable type: 'dict'",
     "output_type": "error",
     "traceback": [
      "\u001b[1;31m---------------------------------------------------------------------------\u001b[0m",
      "\u001b[1;31mTypeError\u001b[0m                                 Traceback (most recent call last)",
      "Cell \u001b[1;32mIn[3], line 1\u001b[0m\n\u001b[1;32m----> 1\u001b[0m \u001b[38;5;28mset\u001b[39m \u001b[38;5;241m=\u001b[39m {\u001b[38;5;241m34\u001b[39m, \u001b[38;5;241m78.005\u001b[39m, \u001b[38;5;124m\"\u001b[39m\u001b[38;5;124mpy\u001b[39m\u001b[38;5;124m\"\u001b[39m , {\u001b[38;5;241m2\u001b[39m:\u001b[38;5;124m\"\u001b[39m\u001b[38;5;124mhello\u001b[39m\u001b[38;5;124m\"\u001b[39m}}\n",
      "\u001b[1;31mTypeError\u001b[0m: unhashable type: 'dict'"
     ]
    }
   ],
   "source": [
    "set = {34, 78.005, \"py\" , {2:\"hello\"}}"
   ]
  },
  {
   "cell_type": "code",
   "execution_count": 33,
   "id": "9d5640a5-f4df-47e7-a5b0-5aa2addf9a7a",
   "metadata": {},
   "outputs": [],
   "source": [
    "dict = { 1: \"red\", 2: \"yellow\"}"
   ]
  },
  {
   "cell_type": "raw",
   "id": "83d66eac-c2f7-433d-97ea-867937028cb3",
   "metadata": {},
   "source": []
  },
  {
   "cell_type": "markdown",
   "id": "b3986ff1-cc41-4de4-9653-2a4a7ef3662e",
   "metadata": {},
   "source": [
    "## Operators"
   ]
  },
  {
   "cell_type": "markdown",
   "id": "0c037a90-f237-45f2-b8a0-b1d4c97c68f2",
   "metadata": {},
   "source": [
    "### Arithmetics"
   ]
  },
  {
   "cell_type": "code",
   "execution_count": null,
   "id": "16ca6751-1be4-4d3f-97cb-c6c0be6b3e73",
   "metadata": {},
   "outputs": [],
   "source": [
    "+\n",
    "-\n",
    "*\n",
    "/\n",
    "%\n",
    "//\n",
    "**"
   ]
  },
  {
   "cell_type": "code",
   "execution_count": 4,
   "id": "74f6abe6-46b9-4fd4-9390-3642e7e0d975",
   "metadata": {},
   "outputs": [
    {
     "data": {
      "text/plain": [
       "43"
      ]
     },
     "execution_count": 4,
     "metadata": {},
     "output_type": "execute_result"
    }
   ],
   "source": [
    "23 + 20"
   ]
  },
  {
   "cell_type": "code",
   "execution_count": 5,
   "id": "ce1ee600-65a3-40b6-bbae-6d237bf00fcf",
   "metadata": {},
   "outputs": [
    {
     "data": {
      "text/plain": [
       "5.0"
      ]
     },
     "execution_count": 5,
     "metadata": {},
     "output_type": "execute_result"
    }
   ],
   "source": [
    "20/4"
   ]
  },
  {
   "cell_type": "code",
   "execution_count": 6,
   "id": "45fa0643-8281-44b1-93b2-f2d353c3f4db",
   "metadata": {},
   "outputs": [
    {
     "data": {
      "text/plain": [
       "10"
      ]
     },
     "execution_count": 6,
     "metadata": {},
     "output_type": "execute_result"
    }
   ],
   "source": [
    "2* 5"
   ]
  },
  {
   "cell_type": "code",
   "execution_count": 7,
   "id": "a57ba3f4-b78b-4cfb-ba32-1002ac007f0c",
   "metadata": {},
   "outputs": [
    {
     "data": {
      "text/plain": [
       "8"
      ]
     },
     "execution_count": 7,
     "metadata": {},
     "output_type": "execute_result"
    }
   ],
   "source": [
    "2 ** 3"
   ]
  },
  {
   "cell_type": "code",
   "execution_count": 8,
   "id": "c3960a61-4252-4ca4-a48b-e59c0b799e13",
   "metadata": {},
   "outputs": [
    {
     "data": {
      "text/plain": [
       "2"
      ]
     },
     "execution_count": 8,
     "metadata": {},
     "output_type": "execute_result"
    }
   ],
   "source": [
    "8%3"
   ]
  },
  {
   "cell_type": "code",
   "execution_count": 9,
   "id": "8e4baa8a-f92b-42d0-ad38-5cad15b76edd",
   "metadata": {},
   "outputs": [
    {
     "data": {
      "text/plain": [
       "3"
      ]
     },
     "execution_count": 9,
     "metadata": {},
     "output_type": "execute_result"
    }
   ],
   "source": [
    "10//3"
   ]
  },
  {
   "cell_type": "markdown",
   "id": "6479cfa4-893e-426c-ba9c-199366cd8884",
   "metadata": {},
   "source": [
    "### Comparision"
   ]
  },
  {
   "cell_type": "code",
   "execution_count": null,
   "id": "5534058c-0ed0-4b82-8d62-b8c4d36566c6",
   "metadata": {},
   "outputs": [],
   "source": [
    "==\n",
    ">\n",
    "<\n",
    ">=\n",
    "<=\n",
    "!="
   ]
  },
  {
   "cell_type": "code",
   "execution_count": 10,
   "id": "429b6b54-81cb-43b0-a2fd-a186250b08d8",
   "metadata": {},
   "outputs": [
    {
     "data": {
      "text/plain": [
       "False"
      ]
     },
     "execution_count": 10,
     "metadata": {},
     "output_type": "execute_result"
    }
   ],
   "source": [
    "10 > 20"
   ]
  },
  {
   "cell_type": "code",
   "execution_count": 11,
   "id": "92fd8459-0aaa-401d-80dd-e1a45eb00eed",
   "metadata": {},
   "outputs": [
    {
     "data": {
      "text/plain": [
       "False"
      ]
     },
     "execution_count": 11,
     "metadata": {},
     "output_type": "execute_result"
    }
   ],
   "source": [
    "10 == 30"
   ]
  },
  {
   "cell_type": "code",
   "execution_count": 12,
   "id": "b22baa74-4e37-4919-bd4d-d74441f66df2",
   "metadata": {},
   "outputs": [
    {
     "data": {
      "text/plain": [
       "True"
      ]
     },
     "execution_count": 12,
     "metadata": {},
     "output_type": "execute_result"
    }
   ],
   "source": [
    "10 != 11"
   ]
  },
  {
   "cell_type": "markdown",
   "id": "88397389-c769-4d3e-ab06-cbf663c4be4f",
   "metadata": {},
   "source": [
    "### Logical "
   ]
  },
  {
   "cell_type": "code",
   "execution_count": null,
   "id": "53425b55-0e9d-451a-b6e3-6209f3109073",
   "metadata": {},
   "outputs": [],
   "source": [
    "and\n",
    "or\n",
    "not\n",
    "in\n",
    "is"
   ]
  },
  {
   "cell_type": "code",
   "execution_count": null,
   "id": "2a641955-c767-4cdb-ace8-7dc9632932d7",
   "metadata": {},
   "outputs": [],
   "source": [
    "T and T = T\n",
    "T and F = F\n",
    "F and T = F\n",
    "F and F = F"
   ]
  },
  {
   "cell_type": "code",
   "execution_count": 15,
   "id": "c3962b3b-de52-4047-b5cb-f82a678f9d4f",
   "metadata": {},
   "outputs": [
    {
     "data": {
      "text/plain": [
       "False"
      ]
     },
     "execution_count": 15,
     "metadata": {},
     "output_type": "execute_result"
    }
   ],
   "source": [
    "10 > 20 and 20 > 15"
   ]
  },
  {
   "cell_type": "code",
   "execution_count": null,
   "id": "31cd8030-383f-4726-ad78-0b3f26af0950",
   "metadata": {},
   "outputs": [],
   "source": [
    "T or F = T\n",
    "F or T = T\n",
    "F or F = F\n",
    "T or T = T"
   ]
  },
  {
   "cell_type": "code",
   "execution_count": 16,
   "id": "6726a223-1c63-4259-93ab-f56c393cfd7c",
   "metadata": {},
   "outputs": [
    {
     "data": {
      "text/plain": [
       "True"
      ]
     },
     "execution_count": 16,
     "metadata": {},
     "output_type": "execute_result"
    }
   ],
   "source": [
    "10 > 20 or 20 > 15"
   ]
  },
  {
   "cell_type": "code",
   "execution_count": 17,
   "id": "eeadf325-b0e5-408d-afcc-3811cbd07979",
   "metadata": {},
   "outputs": [
    {
     "data": {
      "text/plain": [
       "False"
      ]
     },
     "execution_count": 17,
     "metadata": {},
     "output_type": "execute_result"
    }
   ],
   "source": [
    "not(20> 10)"
   ]
  },
  {
   "cell_type": "code",
   "execution_count": 19,
   "id": "eab34dcd-7dac-451d-99b8-4917bbe8c64a",
   "metadata": {},
   "outputs": [
    {
     "data": {
      "text/plain": [
       "False"
      ]
     },
     "execution_count": 19,
     "metadata": {},
     "output_type": "execute_result"
    }
   ],
   "source": [
    "30 in [2,3,4,5,8]"
   ]
  },
  {
   "cell_type": "code",
   "execution_count": 20,
   "id": "40ba2c1f-9a32-42f5-8601-3af9ba133b18",
   "metadata": {},
   "outputs": [
    {
     "name": "stderr",
     "output_type": "stream",
     "text": [
      "<>:1: SyntaxWarning: \"is\" with a literal. Did you mean \"==\"?\n",
      "<>:1: SyntaxWarning: \"is\" with a literal. Did you mean \"==\"?\n",
      "C:\\Users\\amitm\\AppData\\Local\\Temp\\ipykernel_13464\\1130048324.py:1: SyntaxWarning: \"is\" with a literal. Did you mean \"==\"?\n",
      "  30 is 25\n"
     ]
    },
    {
     "data": {
      "text/plain": [
       "False"
      ]
     },
     "execution_count": 20,
     "metadata": {},
     "output_type": "execute_result"
    }
   ],
   "source": [
    "30 is 25"
   ]
  },
  {
   "cell_type": "code",
   "execution_count": 21,
   "id": "a69e4624-d1f9-467d-8570-892b01067f78",
   "metadata": {},
   "outputs": [],
   "source": [
    "a, b = 10 , 20"
   ]
  },
  {
   "cell_type": "code",
   "execution_count": 22,
   "id": "cccdecf6-85a1-46bc-8b66-021ebfa70413",
   "metadata": {},
   "outputs": [
    {
     "data": {
      "text/plain": [
       "False"
      ]
     },
     "execution_count": 22,
     "metadata": {},
     "output_type": "execute_result"
    }
   ],
   "source": [
    "a is b"
   ]
  },
  {
   "cell_type": "markdown",
   "id": "f1c2223a-299a-4968-b2ab-901d5a0f4cb4",
   "metadata": {},
   "source": [
    "### assignment"
   ]
  },
  {
   "cell_type": "code",
   "execution_count": null,
   "id": "c1bc427b-98f3-4200-90e7-a7853bb15e9e",
   "metadata": {},
   "outputs": [],
   "source": [
    "="
   ]
  },
  {
   "cell_type": "markdown",
   "id": "623eeb43-962c-4773-a1c3-99f4fb65ca70",
   "metadata": {},
   "source": [
    "### Variables"
   ]
  },
  {
   "cell_type": "code",
   "execution_count": 23,
   "id": "dc2b6eeb-0cbb-4a0b-bf3c-dccfa20cba91",
   "metadata": {},
   "outputs": [],
   "source": [
    "name = \"amit\""
   ]
  },
  {
   "cell_type": "code",
   "execution_count": 24,
   "id": "52a1f031-17f2-4125-af7d-ddf71bdbc2f1",
   "metadata": {},
   "outputs": [
    {
     "data": {
      "text/plain": [
       "'amit'"
      ]
     },
     "execution_count": 24,
     "metadata": {},
     "output_type": "execute_result"
    }
   ],
   "source": [
    "name"
   ]
  },
  {
   "cell_type": "code",
   "execution_count": null,
   "id": "79753928-b90f-4ca6-8a9f-7cd81758f719",
   "metadata": {},
   "outputs": [],
   "source": [
    "1name, name&^%, first name"
   ]
  },
  {
   "cell_type": "code",
   "execution_count": null,
   "id": "e888194e-ce46-40ee-810a-587196d95521",
   "metadata": {},
   "outputs": [],
   "source": [
    "name2, first_name, name_"
   ]
  },
  {
   "cell_type": "code",
   "execution_count": 25,
   "id": "fa761a69-fb98-4081-9e88-82144ac02b3f",
   "metadata": {},
   "outputs": [],
   "source": [
    "x = 100"
   ]
  },
  {
   "cell_type": "code",
   "execution_count": 26,
   "id": "fad6d4e8-32dc-4b11-b3db-df469804de87",
   "metadata": {},
   "outputs": [
    {
     "data": {
      "text/plain": [
       "100"
      ]
     },
     "execution_count": 26,
     "metadata": {},
     "output_type": "execute_result"
    }
   ],
   "source": [
    "x"
   ]
  },
  {
   "cell_type": "markdown",
   "id": "34dca8f8-b13d-4e99-b8e7-06cb867a5e43",
   "metadata": {},
   "source": [
    "### typecasting"
   ]
  },
  {
   "cell_type": "code",
   "execution_count": 27,
   "id": "e5800321-79a3-42af-a661-f57cafe09b10",
   "metadata": {},
   "outputs": [],
   "source": [
    "n = 756"
   ]
  },
  {
   "cell_type": "code",
   "execution_count": 28,
   "id": "76b3ab63-ed7e-4b24-bd55-c4a70ed6ddd0",
   "metadata": {},
   "outputs": [
    {
     "data": {
      "text/plain": [
       "int"
      ]
     },
     "execution_count": 28,
     "metadata": {},
     "output_type": "execute_result"
    }
   ],
   "source": [
    "type(n)"
   ]
  },
  {
   "cell_type": "code",
   "execution_count": 30,
   "id": "1f27541c-ea0e-4c33-822e-5326d334d634",
   "metadata": {},
   "outputs": [],
   "source": [
    "v1 = str(n)"
   ]
  },
  {
   "cell_type": "code",
   "execution_count": 31,
   "id": "4420cfec-cae3-43a4-9eb0-eb9c1146a464",
   "metadata": {},
   "outputs": [
    {
     "data": {
      "text/plain": [
       "str"
      ]
     },
     "execution_count": 31,
     "metadata": {},
     "output_type": "execute_result"
    }
   ],
   "source": [
    "type(v1)"
   ]
  },
  {
   "cell_type": "code",
   "execution_count": 32,
   "id": "6f00240a-909e-4c00-b580-97ffb0f07f7b",
   "metadata": {},
   "outputs": [
    {
     "data": {
      "text/plain": [
       "'756'"
      ]
     },
     "execution_count": 32,
     "metadata": {},
     "output_type": "execute_result"
    }
   ],
   "source": [
    "v1"
   ]
  },
  {
   "cell_type": "code",
   "execution_count": 34,
   "id": "9d1af5ed-a0ee-42d3-86fd-50ce968f5ca3",
   "metadata": {},
   "outputs": [
    {
     "data": {
      "text/plain": [
       "\"{1: 'red', 2: 'yellow'}\""
      ]
     },
     "execution_count": 34,
     "metadata": {},
     "output_type": "execute_result"
    }
   ],
   "source": [
    "str(dict)"
   ]
  },
  {
   "cell_type": "code",
   "execution_count": 35,
   "id": "a6894f92-44ad-4493-b6d4-3149d936fdaa",
   "metadata": {},
   "outputs": [],
   "source": [
    "str1 = \"data science\""
   ]
  },
  {
   "cell_type": "code",
   "execution_count": 36,
   "id": "8e00b925-599c-4d19-a6ea-1d2e38da3c21",
   "metadata": {},
   "outputs": [
    {
     "data": {
      "text/plain": [
       "['d', 'a', 't', 'a', ' ', 's', 'c', 'i', 'e', 'n', 'c', 'e']"
      ]
     },
     "execution_count": 36,
     "metadata": {},
     "output_type": "execute_result"
    }
   ],
   "source": [
    "list(str1)"
   ]
  },
  {
   "cell_type": "code",
   "execution_count": 37,
   "id": "a3cc3ecc-dd15-4d17-9afa-e43df3cab33d",
   "metadata": {},
   "outputs": [
    {
     "ename": "TypeError",
     "evalue": "'dict' object is not callable",
     "output_type": "error",
     "traceback": [
      "\u001b[1;31m---------------------------------------------------------------------------\u001b[0m",
      "\u001b[1;31mTypeError\u001b[0m                                 Traceback (most recent call last)",
      "Cell \u001b[1;32mIn[37], line 1\u001b[0m\n\u001b[1;32m----> 1\u001b[0m \u001b[38;5;28mdict\u001b[39m(str1)\n",
      "\u001b[1;31mTypeError\u001b[0m: 'dict' object is not callable"
     ]
    }
   ],
   "source": [
    "dict(str1)"
   ]
  },
  {
   "cell_type": "code",
   "execution_count": 38,
   "id": "d782af07-f3ca-4516-a80a-d2d7c54466a4",
   "metadata": {},
   "outputs": [
    {
     "data": {
      "text/plain": [
       "{1: 'red', 2: 'yellow'}"
      ]
     },
     "execution_count": 38,
     "metadata": {},
     "output_type": "execute_result"
    }
   ],
   "source": [
    "dict"
   ]
  },
  {
   "cell_type": "code",
   "execution_count": 39,
   "id": "15a15ec0-90ab-4f5e-a450-59795b2b595f",
   "metadata": {},
   "outputs": [
    {
     "data": {
      "text/plain": [
       "[1, 2]"
      ]
     },
     "execution_count": 39,
     "metadata": {},
     "output_type": "execute_result"
    }
   ],
   "source": [
    "list(dict)"
   ]
  },
  {
   "cell_type": "markdown",
   "id": "583edbe6-3f1b-45e1-a72d-85f333b99cb6",
   "metadata": {},
   "source": [
    "## buil-in function"
   ]
  },
  {
   "cell_type": "code",
   "execution_count": 40,
   "id": "8edf80f6-cf0e-4186-81a8-8ad87f1b4462",
   "metadata": {},
   "outputs": [
    {
     "name": "stdout",
     "output_type": "stream",
     "text": [
      "76 98\n"
     ]
    }
   ],
   "source": [
    "print(76, 98)"
   ]
  },
  {
   "cell_type": "code",
   "execution_count": 41,
   "id": "66090fb4-68ae-4445-b1af-989c7d9006b9",
   "metadata": {},
   "outputs": [
    {
     "name": "stdin",
     "output_type": "stream",
     "text": [
      " amit\n"
     ]
    },
    {
     "data": {
      "text/plain": [
       "'amit'"
      ]
     },
     "execution_count": 41,
     "metadata": {},
     "output_type": "execute_result"
    }
   ],
   "source": [
    "input()"
   ]
  },
  {
   "cell_type": "code",
   "execution_count": 42,
   "id": "998debab-0c8f-4a68-8c96-3deb2562514c",
   "metadata": {},
   "outputs": [
    {
     "name": "stdin",
     "output_type": "stream",
     "text": [
      " 7656\n"
     ]
    },
    {
     "data": {
      "text/plain": [
       "'7656'"
      ]
     },
     "execution_count": 42,
     "metadata": {},
     "output_type": "execute_result"
    }
   ],
   "source": [
    "input()"
   ]
  },
  {
   "cell_type": "code",
   "execution_count": 43,
   "id": "8a192609-8d5e-485b-acf0-5d697fde7130",
   "metadata": {},
   "outputs": [
    {
     "name": "stdin",
     "output_type": "stream",
     "text": [
      " 34534\n"
     ]
    },
    {
     "data": {
      "text/plain": [
       "34534"
      ]
     },
     "execution_count": 43,
     "metadata": {},
     "output_type": "execute_result"
    }
   ],
   "source": [
    "int(input())"
   ]
  },
  {
   "cell_type": "code",
   "execution_count": 45,
   "id": "9eed5972-c906-4633-86e6-a9a5edaabe23",
   "metadata": {},
   "outputs": [
    {
     "data": {
      "text/plain": [
       "12"
      ]
     },
     "execution_count": 45,
     "metadata": {},
     "output_type": "execute_result"
    }
   ],
   "source": [
    "len(str1)"
   ]
  },
  {
   "cell_type": "code",
   "execution_count": 46,
   "id": "c0400e7d-62a4-446a-9b34-1295615b0631",
   "metadata": {},
   "outputs": [
    {
     "data": {
      "text/plain": [
       "'data science'"
      ]
     },
     "execution_count": 46,
     "metadata": {},
     "output_type": "execute_result"
    }
   ],
   "source": [
    "str1"
   ]
  },
  {
   "cell_type": "code",
   "execution_count": 47,
   "id": "08adf83c-c312-4928-b3d7-dac09b58b852",
   "metadata": {},
   "outputs": [
    {
     "data": {
      "text/plain": [
       "str"
      ]
     },
     "execution_count": 47,
     "metadata": {},
     "output_type": "execute_result"
    }
   ],
   "source": [
    "type(str1)"
   ]
  },
  {
   "cell_type": "code",
   "execution_count": 48,
   "id": "912cb25c-d7f5-4262-a816-4b3ca171339f",
   "metadata": {},
   "outputs": [],
   "source": [
    "del(v1)"
   ]
  },
  {
   "cell_type": "code",
   "execution_count": 49,
   "id": "ca5c84a0-601a-45c0-b0b7-52f897f134d2",
   "metadata": {},
   "outputs": [
    {
     "ename": "NameError",
     "evalue": "name 'v1' is not defined",
     "output_type": "error",
     "traceback": [
      "\u001b[1;31m---------------------------------------------------------------------------\u001b[0m",
      "\u001b[1;31mNameError\u001b[0m                                 Traceback (most recent call last)",
      "Cell \u001b[1;32mIn[49], line 1\u001b[0m\n\u001b[1;32m----> 1\u001b[0m v1\n",
      "\u001b[1;31mNameError\u001b[0m: name 'v1' is not defined"
     ]
    }
   ],
   "source": [
    "v1"
   ]
  },
  {
   "cell_type": "code",
   "execution_count": 51,
   "id": "40ccd66c-50be-494d-b12e-0b92b6a19926",
   "metadata": {},
   "outputs": [
    {
     "name": "stdin",
     "output_type": "stream",
     "text": [
      " 2+6\n"
     ]
    },
    {
     "ename": "ValueError",
     "evalue": "invalid literal for int() with base 10: '2+6'",
     "output_type": "error",
     "traceback": [
      "\u001b[1;31m---------------------------------------------------------------------------\u001b[0m",
      "\u001b[1;31mValueError\u001b[0m                                Traceback (most recent call last)",
      "Cell \u001b[1;32mIn[51], line 1\u001b[0m\n\u001b[1;32m----> 1\u001b[0m \u001b[38;5;28mint\u001b[39m(\u001b[38;5;28minput\u001b[39m())\n",
      "\u001b[1;31mValueError\u001b[0m: invalid literal for int() with base 10: '2+6'"
     ]
    }
   ],
   "source": [
    "int(input())"
   ]
  },
  {
   "cell_type": "code",
   "execution_count": 54,
   "id": "b6140098-db84-4f41-9396-5fa1a3fa5e78",
   "metadata": {},
   "outputs": [
    {
     "name": "stdin",
     "output_type": "stream",
     "text": [
      " 3345+ 8767\n"
     ]
    },
    {
     "data": {
      "text/plain": [
       "12112"
      ]
     },
     "execution_count": 54,
     "metadata": {},
     "output_type": "execute_result"
    }
   ],
   "source": [
    "eval(input())"
   ]
  },
  {
   "cell_type": "code",
   "execution_count": 55,
   "id": "b4a740c1-f88b-4ad2-85e8-d85254ffb39f",
   "metadata": {},
   "outputs": [
    {
     "data": {
      "text/plain": [
       "range(0, 10)"
      ]
     },
     "execution_count": 55,
     "metadata": {},
     "output_type": "execute_result"
    }
   ],
   "source": [
    "range(10)"
   ]
  },
  {
   "cell_type": "code",
   "execution_count": 58,
   "id": "2b32360b-0bb4-415e-af6c-bac24f0492a9",
   "metadata": {},
   "outputs": [
    {
     "data": {
      "text/plain": [
       "[0, 1, 2, 3, 4, 5, 6, 7, 8, 9]"
      ]
     },
     "execution_count": 58,
     "metadata": {},
     "output_type": "execute_result"
    }
   ],
   "source": [
    "list(range(10))"
   ]
  },
  {
   "cell_type": "code",
   "execution_count": 59,
   "id": "ba4a06d2-2195-4efb-918f-0c78333399a7",
   "metadata": {},
   "outputs": [
    {
     "data": {
      "text/plain": [
       "[3, 4, 5, 6, 7, 8, 9, 10]"
      ]
     },
     "execution_count": 59,
     "metadata": {},
     "output_type": "execute_result"
    }
   ],
   "source": [
    "list(range(3,11))"
   ]
  },
  {
   "cell_type": "code",
   "execution_count": 60,
   "id": "85b8d55b-191b-4c97-8bf8-ea227907b7dc",
   "metadata": {},
   "outputs": [
    {
     "data": {
      "text/plain": [
       "[1, 2, 3, 4, 5, 6, 7, 8, 9, 10]"
      ]
     },
     "execution_count": 60,
     "metadata": {},
     "output_type": "execute_result"
    }
   ],
   "source": [
    "list(range(1, 11))"
   ]
  },
  {
   "cell_type": "code",
   "execution_count": 61,
   "id": "8e0f1fd4-9108-4a93-8308-99397fe7e3ff",
   "metadata": {},
   "outputs": [
    {
     "data": {
      "text/plain": [
       "[1, 3, 5, 7, 9]"
      ]
     },
     "execution_count": 61,
     "metadata": {},
     "output_type": "execute_result"
    }
   ],
   "source": [
    "list(range(1, 11, 2))"
   ]
  },
  {
   "cell_type": "code",
   "execution_count": 63,
   "id": "1fedf53a-0572-4909-a226-f1e81d5677cf",
   "metadata": {},
   "outputs": [
    {
     "data": {
      "text/plain": [
       "[10, 20, 30, 40, 50, 60, 70, 80, 90, 100]"
      ]
     },
     "execution_count": 63,
     "metadata": {},
     "output_type": "execute_result"
    }
   ],
   "source": [
    "list(range(10, 101, 10))"
   ]
  },
  {
   "cell_type": "code",
   "execution_count": 65,
   "id": "e14cd296-16f5-446b-bc21-70fdaca0e26c",
   "metadata": {},
   "outputs": [
    {
     "data": {
      "text/plain": [
       "[101, 91, 81, 71, 61, 51, 41, 31, 21, 11]"
      ]
     },
     "execution_count": 65,
     "metadata": {},
     "output_type": "execute_result"
    }
   ],
   "source": [
    "list(range(101, 10, -10))"
   ]
  },
  {
   "cell_type": "code",
   "execution_count": null,
   "id": "192c8577-3806-41d9-976f-548b9901f575",
   "metadata": {},
   "outputs": [],
   "source": [
    "-3,-2,-1, 0 1, 2, 3"
   ]
  },
  {
   "cell_type": "code",
   "execution_count": 67,
   "id": "bd75bddc-55ba-41ed-9395-c747aad050df",
   "metadata": {},
   "outputs": [
    {
     "data": {
      "text/plain": [
       "[-100, -90, -80, -70, -60, -50, -40, -30, -20, -10, 0]"
      ]
     },
     "execution_count": 67,
     "metadata": {},
     "output_type": "execute_result"
    }
   ],
   "source": [
    "list(range(-100, 10, 10))"
   ]
  },
  {
   "cell_type": "code",
   "execution_count": 69,
   "id": "6faaa88d-70be-43ea-aa79-23b94ff73f82",
   "metadata": {},
   "outputs": [
    {
     "data": {
      "text/plain": [
       "[0, 1, 2, 3, 4, 5, 6, 7, 8, 9]"
      ]
     },
     "execution_count": 69,
     "metadata": {},
     "output_type": "execute_result"
    }
   ],
   "source": [
    "list(range(10))"
   ]
  },
  {
   "cell_type": "code",
   "execution_count": 70,
   "id": "07dedd8a-77b0-4bfe-b88c-242e4e2b1133",
   "metadata": {},
   "outputs": [
    {
     "data": {
      "text/plain": [
       "[2, 3, 4, 5, 6, 7, 8, 9, 10]"
      ]
     },
     "execution_count": 70,
     "metadata": {},
     "output_type": "execute_result"
    }
   ],
   "source": [
    "list(range(2, 11))"
   ]
  },
  {
   "cell_type": "code",
   "execution_count": 71,
   "id": "08e06892-bbf7-49d3-a5c1-d7f174d1c7dc",
   "metadata": {},
   "outputs": [
    {
     "data": {
      "text/plain": [
       "[2, 4, 6, 8, 10]"
      ]
     },
     "execution_count": 71,
     "metadata": {},
     "output_type": "execute_result"
    }
   ],
   "source": [
    "list(range(2, 11, 2))"
   ]
  },
  {
   "cell_type": "code",
   "execution_count": 74,
   "id": "fb92533e-6ce2-44d2-9dc7-27a7e0ca13c4",
   "metadata": {},
   "outputs": [
    {
     "data": {
      "text/plain": [
       "[11, 9, 7, 5, 3, 1]"
      ]
     },
     "execution_count": 74,
     "metadata": {},
     "output_type": "execute_result"
    }
   ],
   "source": [
    "list(range(11, 0, -2))"
   ]
  },
  {
   "cell_type": "code",
   "execution_count": 76,
   "id": "7844d701-3a37-48fc-9b78-f66898ab39df",
   "metadata": {},
   "outputs": [
    {
     "data": {
      "text/plain": [
       "[]"
      ]
     },
     "execution_count": 76,
     "metadata": {},
     "output_type": "execute_result"
    }
   ],
   "source": [
    "list(range(0, 11, -2))"
   ]
  },
  {
   "cell_type": "code",
   "execution_count": 82,
   "id": "35286744-3448-4339-9fc8-3e9a6fe99f96",
   "metadata": {},
   "outputs": [],
   "source": [
    "l1 = list(range(-10, 11, 2))"
   ]
  },
  {
   "cell_type": "code",
   "execution_count": 79,
   "id": "019c38ed-3670-43e4-bb2d-4564ffcc464e",
   "metadata": {},
   "outputs": [
    {
     "data": {
      "text/plain": [
       "756"
      ]
     },
     "execution_count": 79,
     "metadata": {},
     "output_type": "execute_result"
    }
   ],
   "source": [
    "n"
   ]
  },
  {
   "cell_type": "code",
   "execution_count": 81,
   "id": "8dd8dbe0-3e85-419a-97f3-d5132ce19232",
   "metadata": {},
   "outputs": [
    {
     "data": {
      "text/plain": [
       "[]"
      ]
     },
     "execution_count": 81,
     "metadata": {},
     "output_type": "execute_result"
    }
   ],
   "source": [
    "list(range(n, 100, 25))"
   ]
  },
  {
   "cell_type": "code",
   "execution_count": 83,
   "id": "7c76d8d5-e16f-45bd-9551-df4f6474f135",
   "metadata": {},
   "outputs": [
    {
     "data": {
      "text/plain": [
       "[-10, -8, -6, -4, -2, 0, 2, 4, 6, 8, 10]"
      ]
     },
     "execution_count": 83,
     "metadata": {},
     "output_type": "execute_result"
    }
   ],
   "source": [
    "l1"
   ]
  },
  {
   "cell_type": "code",
   "execution_count": 84,
   "id": "3af188b8-1caa-4f2d-b0c8-914f3108a854",
   "metadata": {},
   "outputs": [
    {
     "data": {
      "text/plain": [
       "10"
      ]
     },
     "execution_count": 84,
     "metadata": {},
     "output_type": "execute_result"
    }
   ],
   "source": [
    "max(l1)"
   ]
  },
  {
   "cell_type": "code",
   "execution_count": 85,
   "id": "3de73239-b7a3-42a3-be20-41a2849b08bf",
   "metadata": {},
   "outputs": [
    {
     "data": {
      "text/plain": [
       "-10"
      ]
     },
     "execution_count": 85,
     "metadata": {},
     "output_type": "execute_result"
    }
   ],
   "source": [
    "min(l1)"
   ]
  },
  {
   "cell_type": "code",
   "execution_count": 86,
   "id": "1362b623-5702-412f-9d85-ea9c922f90a3",
   "metadata": {},
   "outputs": [
    {
     "data": {
      "text/plain": [
       "0"
      ]
     },
     "execution_count": 86,
     "metadata": {},
     "output_type": "execute_result"
    }
   ],
   "source": [
    "sum(l1)"
   ]
  },
  {
   "cell_type": "code",
   "execution_count": 87,
   "id": "71aac2f5-98f8-4a02-bfa3-8960c422f756",
   "metadata": {},
   "outputs": [
    {
     "data": {
      "text/plain": [
       "571536"
      ]
     },
     "execution_count": 87,
     "metadata": {},
     "output_type": "execute_result"
    }
   ],
   "source": [
    "pow(n, 2)"
   ]
  },
  {
   "cell_type": "code",
   "execution_count": 88,
   "id": "b95ece3e-107e-4b0f-8c8e-1142314d4dfa",
   "metadata": {},
   "outputs": [
    {
     "data": {
      "text/plain": [
       "81"
      ]
     },
     "execution_count": 88,
     "metadata": {},
     "output_type": "execute_result"
    }
   ],
   "source": [
    "pow(3, 4)"
   ]
  },
  {
   "cell_type": "code",
   "execution_count": 89,
   "id": "44bd9433-420e-48ad-b4d2-5dc5a19010e8",
   "metadata": {},
   "outputs": [
    {
     "data": {
      "text/plain": [
       "[-10, -8, -6, -4, -2, 0, 2, 4, 6, 8, 10]"
      ]
     },
     "execution_count": 89,
     "metadata": {},
     "output_type": "execute_result"
    }
   ],
   "source": [
    "sorted(l1)"
   ]
  },
  {
   "cell_type": "code",
   "execution_count": 90,
   "id": "f52efb87-9f46-4a6b-b81b-a2f7bd1d7760",
   "metadata": {},
   "outputs": [],
   "source": [
    "l2 = [3,2,1,5,6,7,4,9,5,7,54]"
   ]
  },
  {
   "cell_type": "code",
   "execution_count": 91,
   "id": "457a461b-f1ad-4508-963e-4c521693dac2",
   "metadata": {},
   "outputs": [
    {
     "data": {
      "text/plain": [
       "[3, 2, 1, 5, 6, 7, 4, 9, 5, 7, 54]"
      ]
     },
     "execution_count": 91,
     "metadata": {},
     "output_type": "execute_result"
    }
   ],
   "source": [
    "l2"
   ]
  },
  {
   "cell_type": "code",
   "execution_count": 92,
   "id": "99c36d8f-ec0f-4c57-a126-69a98263179e",
   "metadata": {},
   "outputs": [
    {
     "data": {
      "text/plain": [
       "[1, 2, 3, 4, 5, 5, 6, 7, 7, 9, 54]"
      ]
     },
     "execution_count": 92,
     "metadata": {},
     "output_type": "execute_result"
    }
   ],
   "source": [
    "sorted(l2)"
   ]
  },
  {
   "cell_type": "code",
   "execution_count": 93,
   "id": "e9c2cd1f-6f6c-4b12-a3a5-752694518a70",
   "metadata": {},
   "outputs": [
    {
     "data": {
      "text/plain": [
       "[54, 9, 7, 7, 6, 5, 5, 4, 3, 2, 1]"
      ]
     },
     "execution_count": 93,
     "metadata": {},
     "output_type": "execute_result"
    }
   ],
   "source": [
    "sorted(l2,reverse= True)"
   ]
  },
  {
   "cell_type": "code",
   "execution_count": 96,
   "id": "8d654784-4df2-4e9f-93d1-e97a2c5a249f",
   "metadata": {},
   "outputs": [
    {
     "data": {
      "text/plain": [
       "97"
      ]
     },
     "execution_count": 96,
     "metadata": {},
     "output_type": "execute_result"
    }
   ],
   "source": [
    "ord(\"a\")"
   ]
  },
  {
   "cell_type": "code",
   "execution_count": 97,
   "id": "12c7c211-5024-45ab-a53d-547de2d3cace",
   "metadata": {},
   "outputs": [
    {
     "data": {
      "text/plain": [
       "65"
      ]
     },
     "execution_count": 97,
     "metadata": {},
     "output_type": "execute_result"
    }
   ],
   "source": [
    "ord(\"A\")"
   ]
  },
  {
   "cell_type": "code",
   "execution_count": 98,
   "id": "558114ee-7e70-4edd-84e9-58007c6f73dc",
   "metadata": {},
   "outputs": [
    {
     "data": {
      "text/plain": [
       "45"
      ]
     },
     "execution_count": 98,
     "metadata": {},
     "output_type": "execute_result"
    }
   ],
   "source": [
    "ord(\"-\")"
   ]
  },
  {
   "cell_type": "code",
   "execution_count": 99,
   "id": "8a9f7244-11f2-47cc-a4e4-981c4f69124a",
   "metadata": {},
   "outputs": [
    {
     "data": {
      "text/plain": [
       "'A'"
      ]
     },
     "execution_count": 99,
     "metadata": {},
     "output_type": "execute_result"
    }
   ],
   "source": [
    "chr(65)"
   ]
  },
  {
   "cell_type": "code",
   "execution_count": 101,
   "id": "02b441bc-d24b-4e74-994e-6e7493cf196c",
   "metadata": {},
   "outputs": [
    {
     "data": {
      "text/plain": [
       "'1'"
      ]
     },
     "execution_count": 101,
     "metadata": {},
     "output_type": "execute_result"
    }
   ],
   "source": [
    "chr(49)"
   ]
  },
  {
   "cell_type": "code",
   "execution_count": 102,
   "id": "e6be4313-fdd0-4544-b1b0-998daa0e1465",
   "metadata": {},
   "outputs": [
    {
     "data": {
      "text/plain": [
       "'x'"
      ]
     },
     "execution_count": 102,
     "metadata": {},
     "output_type": "execute_result"
    }
   ],
   "source": [
    "chr(120)"
   ]
  },
  {
   "cell_type": "code",
   "execution_count": 103,
   "id": "8842b76f-998d-4be3-b1ba-16e840692490",
   "metadata": {},
   "outputs": [
    {
     "data": {
      "text/plain": [
       "122"
      ]
     },
     "execution_count": 103,
     "metadata": {},
     "output_type": "execute_result"
    }
   ],
   "source": [
    "ord(\"z\")"
   ]
  },
  {
   "cell_type": "code",
   "execution_count": 104,
   "id": "603c6f9f-b10a-4744-ac50-04b6133acb19",
   "metadata": {},
   "outputs": [
    {
     "data": {
      "text/plain": [
       "'}'"
      ]
     },
     "execution_count": 104,
     "metadata": {},
     "output_type": "execute_result"
    }
   ],
   "source": [
    "chr(125)"
   ]
  },
  {
   "cell_type": "code",
   "execution_count": 106,
   "id": "32951272-0cc6-4cbe-afbb-fd221e8e3a24",
   "metadata": {},
   "outputs": [
    {
     "data": {
      "text/plain": [
       "'data science'"
      ]
     },
     "execution_count": 106,
     "metadata": {},
     "output_type": "execute_result"
    }
   ],
   "source": [
    "str1"
   ]
  },
  {
   "cell_type": "code",
   "execution_count": 107,
   "id": "66f1c32b-e0f7-408c-b467-f0ef5b751911",
   "metadata": {},
   "outputs": [
    {
     "data": {
      "text/plain": [
       "False"
      ]
     },
     "execution_count": 107,
     "metadata": {},
     "output_type": "execute_result"
    }
   ],
   "source": [
    "isinstance(str1, tuple)"
   ]
  },
  {
   "cell_type": "code",
   "execution_count": 108,
   "id": "d260b5b4-7a65-4be6-b4e5-10a490ecd18b",
   "metadata": {},
   "outputs": [
    {
     "data": {
      "text/plain": [
       "True"
      ]
     },
     "execution_count": 108,
     "metadata": {},
     "output_type": "execute_result"
    }
   ],
   "source": [
    "isinstance(str1, str)"
   ]
  },
  {
   "cell_type": "code",
   "execution_count": 110,
   "id": "8affb4fa-26e1-40ce-846d-272ea40f7653",
   "metadata": {},
   "outputs": [
    {
     "data": {
      "text/plain": [
       "[(0, 'd'), (1, 'a'), (2, 't'), (3, 'a')]"
      ]
     },
     "execution_count": 110,
     "metadata": {},
     "output_type": "execute_result"
    }
   ],
   "source": [
    "list(enumerate(\"data\"))"
   ]
  },
  {
   "cell_type": "code",
   "execution_count": 113,
   "id": "7d60835b-5eae-4dcf-9039-15237bc45239",
   "metadata": {},
   "outputs": [
    {
     "data": {
      "text/plain": [
       "[(0, 1),\n",
       " (1, 2),\n",
       " (2, 3),\n",
       " (3, 4),\n",
       " (4, 5),\n",
       " (5, 6),\n",
       " (6, 7),\n",
       " (7, 8),\n",
       " (8, 9),\n",
       " (9, 10)]"
      ]
     },
     "execution_count": 113,
     "metadata": {},
     "output_type": "execute_result"
    }
   ],
   "source": [
    "list(enumerate(range(1,11)))"
   ]
  },
  {
   "cell_type": "code",
   "execution_count": 116,
   "id": "4534497f-acb0-4fe1-a8ff-74800954d4b7",
   "metadata": {},
   "outputs": [
    {
     "data": {
      "text/plain": [
       "((0, 'd'),\n",
       " (1, 'a'),\n",
       " (2, 't'),\n",
       " (3, 'a'),\n",
       " (4, ' '),\n",
       " (5, 's'),\n",
       " (6, 'c'),\n",
       " (7, 'i'),\n",
       " (8, 'e'),\n",
       " (9, 'n'),\n",
       " (10, 'c'),\n",
       " (11, 'e'))"
      ]
     },
     "execution_count": 116,
     "metadata": {},
     "output_type": "execute_result"
    }
   ],
   "source": [
    "tuple(enumerate(str1))"
   ]
  },
  {
   "cell_type": "code",
   "execution_count": null,
   "id": "23530e05-d89c-4d81-91da-8c947869ebc5",
   "metadata": {},
   "outputs": [],
   "source": []
  }
 ],
 "metadata": {
  "kernelspec": {
   "display_name": "Python 3 (ipykernel)",
   "language": "python",
   "name": "python3"
  },
  "language_info": {
   "codemirror_mode": {
    "name": "ipython",
    "version": 3
   },
   "file_extension": ".py",
   "mimetype": "text/x-python",
   "name": "python",
   "nbconvert_exporter": "python",
   "pygments_lexer": "ipython3",
   "version": "3.11.7"
  }
 },
 "nbformat": 4,
 "nbformat_minor": 5
}
