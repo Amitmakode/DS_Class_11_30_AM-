{
 "cells": [
  {
   "cell_type": "markdown",
   "id": "8f4751cb-87a5-4d62-9424-f0590ddd75c6",
   "metadata": {},
   "source": [
    "## String"
   ]
  },
  {
   "cell_type": "code",
   "execution_count": 1,
   "id": "5d5764f3-42d7-4ef6-977d-82bce0a051b3",
   "metadata": {},
   "outputs": [],
   "source": [
    "var1 = \"this is my first string\""
   ]
  },
  {
   "cell_type": "code",
   "execution_count": 2,
   "id": "f2d46660-d815-48ce-83d5-fd3ecd5404ae",
   "metadata": {},
   "outputs": [
    {
     "data": {
      "text/plain": [
       "'this is my first string'"
      ]
     },
     "execution_count": 2,
     "metadata": {},
     "output_type": "execute_result"
    }
   ],
   "source": [
    "var1"
   ]
  },
  {
   "cell_type": "markdown",
   "id": "b6db997d-2834-400a-a8e8-df6f2e859a2f",
   "metadata": {},
   "source": [
    "### Indexing"
   ]
  },
  {
   "cell_type": "code",
   "execution_count": 3,
   "id": "fa7342e2-a39d-494b-8f6e-17be1c6f23f4",
   "metadata": {},
   "outputs": [
    {
     "data": {
      "text/plain": [
       "'s'"
      ]
     },
     "execution_count": 3,
     "metadata": {},
     "output_type": "execute_result"
    }
   ],
   "source": [
    "var1[3]"
   ]
  },
  {
   "cell_type": "code",
   "execution_count": 4,
   "id": "8e1de718-4a28-46fe-b8f8-68cdc488b11e",
   "metadata": {},
   "outputs": [
    {
     "data": {
      "text/plain": [
       "' '"
      ]
     },
     "execution_count": 4,
     "metadata": {},
     "output_type": "execute_result"
    }
   ],
   "source": [
    "var1[16]"
   ]
  },
  {
   "cell_type": "code",
   "execution_count": 6,
   "id": "fe33152d-bf1f-4e73-a55f-4aa0cd873d7d",
   "metadata": {},
   "outputs": [
    {
     "data": {
      "text/plain": [
       "' '"
      ]
     },
     "execution_count": 6,
     "metadata": {},
     "output_type": "execute_result"
    }
   ],
   "source": [
    "var1[-7]"
   ]
  },
  {
   "cell_type": "markdown",
   "id": "a84c7b80-d8a6-4f62-825b-c2d118600c3a",
   "metadata": {},
   "source": [
    "### Slicing"
   ]
  },
  {
   "cell_type": "code",
   "execution_count": 7,
   "id": "bba3a140-509f-4f0a-8559-8b9d4fe2e79b",
   "metadata": {},
   "outputs": [
    {
     "data": {
      "text/plain": [
       "'this is my first string'"
      ]
     },
     "execution_count": 7,
     "metadata": {},
     "output_type": "execute_result"
    }
   ],
   "source": [
    "var1"
   ]
  },
  {
   "cell_type": "code",
   "execution_count": 10,
   "id": "7f4a1e6e-18f3-4f57-8a19-cbe97a334c12",
   "metadata": {},
   "outputs": [
    {
     "data": {
      "text/plain": [
       "'s is my'"
      ]
     },
     "execution_count": 10,
     "metadata": {},
     "output_type": "execute_result"
    }
   ],
   "source": [
    "var1[3:10]"
   ]
  },
  {
   "cell_type": "code",
   "execution_count": 11,
   "id": "72eceafd-6899-46a7-9bb6-da412fddc71a",
   "metadata": {},
   "outputs": [
    {
     "data": {
      "text/plain": [
       "'this is my'"
      ]
     },
     "execution_count": 11,
     "metadata": {},
     "output_type": "execute_result"
    }
   ],
   "source": [
    "var1[:10]"
   ]
  },
  {
   "cell_type": "code",
   "execution_count": 15,
   "id": "9789f9c1-fa6e-4dc9-9df9-fd744a05dcbe",
   "metadata": {},
   "outputs": [
    {
     "data": {
      "text/plain": [
       "'i sm is tig'"
      ]
     },
     "execution_count": 15,
     "metadata": {},
     "output_type": "execute_result"
    }
   ],
   "source": [
    "var1[2::2]"
   ]
  },
  {
   "cell_type": "code",
   "execution_count": 18,
   "id": "d7bc18f1-5784-4957-a229-a4685a99bec1",
   "metadata": {},
   "outputs": [
    {
     "data": {
      "text/plain": [
       "'gnirts tsrif ym si siht'"
      ]
     },
     "execution_count": 18,
     "metadata": {},
     "output_type": "execute_result"
    }
   ],
   "source": [
    "var1[::-1]"
   ]
  },
  {
   "cell_type": "code",
   "execution_count": 22,
   "id": "4e0eca1b-77da-4cd2-8898-311979ee4ea9",
   "metadata": {},
   "outputs": [],
   "source": [
    "var2 = \"this is my second string\""
   ]
  },
  {
   "cell_type": "markdown",
   "id": "106a7b35-26bf-4071-b433-1457a00e206d",
   "metadata": {},
   "source": [
    "### Concatination"
   ]
  },
  {
   "cell_type": "code",
   "execution_count": 21,
   "id": "d99cb390-7f58-4e62-8678-8955a16fc9b1",
   "metadata": {},
   "outputs": [
    {
     "data": {
      "text/plain": [
       "'this is my first string this is my first string'"
      ]
     },
     "execution_count": 21,
     "metadata": {},
     "output_type": "execute_result"
    }
   ],
   "source": [
    "var1 + \" \"+var1"
   ]
  },
  {
   "cell_type": "markdown",
   "id": "1133306b-f676-45b2-a0cb-44bb5c2e5539",
   "metadata": {},
   "source": [
    "### Repeatation"
   ]
  },
  {
   "cell_type": "code",
   "execution_count": 24,
   "id": "a110c584-f5fb-4fc0-9f36-83f4587be3a4",
   "metadata": {},
   "outputs": [
    {
     "data": {
      "text/plain": [
       "'this is my first stringthis is my first stringthis is my first string'"
      ]
     },
     "execution_count": 24,
     "metadata": {},
     "output_type": "execute_result"
    }
   ],
   "source": [
    "var1*3"
   ]
  },
  {
   "cell_type": "markdown",
   "id": "d031527e-2ae4-4cd2-9d1d-f38e7e0f8d45",
   "metadata": {},
   "source": [
    "### Mutation"
   ]
  },
  {
   "cell_type": "code",
   "execution_count": 25,
   "id": "480f9259-30f4-48d0-ab17-d2fca37b2b0d",
   "metadata": {},
   "outputs": [
    {
     "data": {
      "text/plain": [
       "'this is my first string'"
      ]
     },
     "execution_count": 25,
     "metadata": {},
     "output_type": "execute_result"
    }
   ],
   "source": [
    "var1"
   ]
  },
  {
   "cell_type": "code",
   "execution_count": 27,
   "id": "8e99d832-6506-4e35-a718-aadcbea20ccc",
   "metadata": {},
   "outputs": [
    {
     "ename": "TypeError",
     "evalue": "'str' object does not support item assignment",
     "output_type": "error",
     "traceback": [
      "\u001b[1;31m---------------------------------------------------------------------------\u001b[0m",
      "\u001b[1;31mTypeError\u001b[0m                                 Traceback (most recent call last)",
      "Cell \u001b[1;32mIn[27], line 1\u001b[0m\n\u001b[1;32m----> 1\u001b[0m var1[\u001b[38;5;241m3\u001b[39m] \u001b[38;5;241m=\u001b[39m \u001b[38;5;124m\"\u001b[39m\u001b[38;5;124mc\u001b[39m\u001b[38;5;124m\"\u001b[39m\n",
      "\u001b[1;31mTypeError\u001b[0m: 'str' object does not support item assignment"
     ]
    }
   ],
   "source": [
    "var1[3] = \"c\""
   ]
  },
  {
   "cell_type": "markdown",
   "id": "17d2e93e-9765-4db0-ac17-8f91f6ca8934",
   "metadata": {},
   "source": [
    "### Functions"
   ]
  },
  {
   "cell_type": "code",
   "execution_count": 28,
   "id": "b458a1a8-d952-489e-ac39-24412506389d",
   "metadata": {},
   "outputs": [
    {
     "data": {
      "text/plain": [
       "'this is my first string'"
      ]
     },
     "execution_count": 28,
     "metadata": {},
     "output_type": "execute_result"
    }
   ],
   "source": [
    "var1"
   ]
  },
  {
   "cell_type": "code",
   "execution_count": 35,
   "id": "edf2aff4-2c42-4183-b4ec-615561fa2a83",
   "metadata": {},
   "outputs": [],
   "source": [
    "var3 = var1.upper()"
   ]
  },
  {
   "cell_type": "code",
   "execution_count": 30,
   "id": "47a05795-51ad-47d3-b1ab-5efcbb24df72",
   "metadata": {},
   "outputs": [
    {
     "data": {
      "text/plain": [
       "'this is my first string'"
      ]
     },
     "execution_count": 30,
     "metadata": {},
     "output_type": "execute_result"
    }
   ],
   "source": [
    "var1.lower()"
   ]
  },
  {
   "cell_type": "code",
   "execution_count": 31,
   "id": "b3687185-d1a1-4d32-acc1-43348a29acab",
   "metadata": {},
   "outputs": [
    {
     "data": {
      "text/plain": [
       "'This is my first string'"
      ]
     },
     "execution_count": 31,
     "metadata": {},
     "output_type": "execute_result"
    }
   ],
   "source": [
    "var1.capitalize()"
   ]
  },
  {
   "cell_type": "code",
   "execution_count": 32,
   "id": "a33444b3-7496-4524-8ff6-db59cf03580c",
   "metadata": {},
   "outputs": [
    {
     "data": {
      "text/plain": [
       "'This Is My First String'"
      ]
     },
     "execution_count": 32,
     "metadata": {},
     "output_type": "execute_result"
    }
   ],
   "source": [
    "var1.title()"
   ]
  },
  {
   "cell_type": "code",
   "execution_count": 33,
   "id": "629834eb-5a8f-4e6a-9fd5-7cac827e83e1",
   "metadata": {},
   "outputs": [
    {
     "data": {
      "text/plain": [
       "True"
      ]
     },
     "execution_count": 33,
     "metadata": {},
     "output_type": "execute_result"
    }
   ],
   "source": [
    "var1.islower()"
   ]
  },
  {
   "cell_type": "code",
   "execution_count": 34,
   "id": "3b6ac143-393d-4a60-b744-943039e2d1a8",
   "metadata": {},
   "outputs": [
    {
     "data": {
      "text/plain": [
       "False"
      ]
     },
     "execution_count": 34,
     "metadata": {},
     "output_type": "execute_result"
    }
   ],
   "source": [
    "var1.isupper()"
   ]
  },
  {
   "cell_type": "code",
   "execution_count": 36,
   "id": "57569e24-e5df-4644-bbc0-dd5768755456",
   "metadata": {},
   "outputs": [
    {
     "data": {
      "text/plain": [
       "'THIS IS MY FIRST STRING'"
      ]
     },
     "execution_count": 36,
     "metadata": {},
     "output_type": "execute_result"
    }
   ],
   "source": [
    "var3"
   ]
  },
  {
   "cell_type": "code",
   "execution_count": 38,
   "id": "849fcb8b-646c-46f8-a5df-3c1b10a3cbca",
   "metadata": {},
   "outputs": [
    {
     "data": {
      "text/plain": [
       "'                                      this is my first string                                       '"
      ]
     },
     "execution_count": 38,
     "metadata": {},
     "output_type": "execute_result"
    }
   ],
   "source": [
    "var1.center(100)"
   ]
  },
  {
   "cell_type": "code",
   "execution_count": 40,
   "id": "70d154fa-83c0-409d-8e7a-c99d3707b73f",
   "metadata": {},
   "outputs": [
    {
     "data": {
      "text/plain": [
       "3"
      ]
     },
     "execution_count": 40,
     "metadata": {},
     "output_type": "execute_result"
    }
   ],
   "source": [
    "var1.count(\"t\")"
   ]
  },
  {
   "cell_type": "code",
   "execution_count": 41,
   "id": "9f63c285-edaf-4c0f-acb8-ea4047ce1427",
   "metadata": {},
   "outputs": [
    {
     "data": {
      "text/plain": [
       "False"
      ]
     },
     "execution_count": 41,
     "metadata": {},
     "output_type": "execute_result"
    }
   ],
   "source": [
    "var1.endswith(\"t\")"
   ]
  },
  {
   "cell_type": "code",
   "execution_count": 42,
   "id": "a1977b4e-046e-4dba-b252-bfbf265c8304",
   "metadata": {},
   "outputs": [
    {
     "data": {
      "text/plain": [
       "True"
      ]
     },
     "execution_count": 42,
     "metadata": {},
     "output_type": "execute_result"
    }
   ],
   "source": [
    "var1.endswith(\"g\")"
   ]
  },
  {
   "cell_type": "code",
   "execution_count": 43,
   "id": "360793e0-090b-443f-a4e3-5b6a6c527c23",
   "metadata": {},
   "outputs": [
    {
     "data": {
      "text/plain": [
       "True"
      ]
     },
     "execution_count": 43,
     "metadata": {},
     "output_type": "execute_result"
    }
   ],
   "source": [
    "var1.endswith(\"ing\")"
   ]
  },
  {
   "cell_type": "code",
   "execution_count": 44,
   "id": "bbc6bf52-c03b-447f-a4e8-cc0e1d004667",
   "metadata": {},
   "outputs": [
    {
     "data": {
      "text/plain": [
       "False"
      ]
     },
     "execution_count": 44,
     "metadata": {},
     "output_type": "execute_result"
    }
   ],
   "source": [
    "var1.isnumeric()"
   ]
  },
  {
   "cell_type": "code",
   "execution_count": 45,
   "id": "578e814d-1750-41e1-ae0f-160b3109df84",
   "metadata": {},
   "outputs": [
    {
     "data": {
      "text/plain": [
       "True"
      ]
     },
     "execution_count": 45,
     "metadata": {},
     "output_type": "execute_result"
    }
   ],
   "source": [
    "\"3453\".isnumeric()"
   ]
  },
  {
   "cell_type": "code",
   "execution_count": 46,
   "id": "a50512a8-0c93-45b2-8137-ea7a0edbac92",
   "metadata": {},
   "outputs": [
    {
     "data": {
      "text/plain": [
       "True"
      ]
     },
     "execution_count": 46,
     "metadata": {},
     "output_type": "execute_result"
    }
   ],
   "source": [
    "\"3453\".isdecimal()"
   ]
  },
  {
   "cell_type": "code",
   "execution_count": 47,
   "id": "49271bc4-0de0-47a4-9cb3-f09bf9c3b445",
   "metadata": {},
   "outputs": [
    {
     "data": {
      "text/plain": [
       "False"
      ]
     },
     "execution_count": 47,
     "metadata": {},
     "output_type": "execute_result"
    }
   ],
   "source": [
    "\"3453\".isalpha()"
   ]
  },
  {
   "cell_type": "code",
   "execution_count": 48,
   "id": "c0e96dc1-3bba-4f59-8d79-2fd4383e5e59",
   "metadata": {},
   "outputs": [
    {
     "data": {
      "text/plain": [
       "False"
      ]
     },
     "execution_count": 48,
     "metadata": {},
     "output_type": "execute_result"
    }
   ],
   "source": [
    "var1.isalpha()"
   ]
  },
  {
   "cell_type": "code",
   "execution_count": 49,
   "id": "7b349f7f-a121-466a-af3f-e3aabf68880d",
   "metadata": {},
   "outputs": [
    {
     "data": {
      "text/plain": [
       "'this is my first string'"
      ]
     },
     "execution_count": 49,
     "metadata": {},
     "output_type": "execute_result"
    }
   ],
   "source": [
    "var1"
   ]
  },
  {
   "cell_type": "code",
   "execution_count": 50,
   "id": "bb7152c3-8ef6-4026-bbba-8390f66b7901",
   "metadata": {},
   "outputs": [
    {
     "data": {
      "text/plain": [
       "True"
      ]
     },
     "execution_count": 50,
     "metadata": {},
     "output_type": "execute_result"
    }
   ],
   "source": [
    "\"python\".isalpha()"
   ]
  },
  {
   "cell_type": "code",
   "execution_count": 52,
   "id": "f542de30-d1e2-46bf-aa15-4259106d53a4",
   "metadata": {},
   "outputs": [
    {
     "data": {
      "text/plain": [
       "False"
      ]
     },
     "execution_count": 52,
     "metadata": {},
     "output_type": "execute_result"
    }
   ],
   "source": [
    "\"df   \".isspace()"
   ]
  },
  {
   "cell_type": "code",
   "execution_count": 56,
   "id": "e946efa1-da0c-4334-98c9-3d8edf43cd46",
   "metadata": {},
   "outputs": [
    {
     "ename": "ValueError",
     "evalue": "substring not found",
     "output_type": "error",
     "traceback": [
      "\u001b[1;31m---------------------------------------------------------------------------\u001b[0m",
      "\u001b[1;31mValueError\u001b[0m                                Traceback (most recent call last)",
      "Cell \u001b[1;32mIn[56], line 1\u001b[0m\n\u001b[1;32m----> 1\u001b[0m var1\u001b[38;5;241m.\u001b[39mindex(\u001b[38;5;124m\"\u001b[39m\u001b[38;5;124mY\u001b[39m\u001b[38;5;124m\"\u001b[39m)\n",
      "\u001b[1;31mValueError\u001b[0m: substring not found"
     ]
    }
   ],
   "source": [
    "var1.index(\"Y\")"
   ]
  },
  {
   "cell_type": "code",
   "execution_count": 59,
   "id": "fa67bf61-d171-4100-87a5-b750bed11a4b",
   "metadata": {},
   "outputs": [
    {
     "data": {
      "text/plain": [
       "'this is my first string'"
      ]
     },
     "execution_count": 59,
     "metadata": {},
     "output_type": "execute_result"
    }
   ],
   "source": [
    "var1"
   ]
  },
  {
   "cell_type": "code",
   "execution_count": 58,
   "id": "57dbf2ad-e80d-4548-be87-a81cb2fcee86",
   "metadata": {},
   "outputs": [
    {
     "data": {
      "text/plain": [
       "('this', ' ', 'is my first string')"
      ]
     },
     "execution_count": 58,
     "metadata": {},
     "output_type": "execute_result"
    }
   ],
   "source": [
    "var1.partition(\" \")"
   ]
  },
  {
   "cell_type": "code",
   "execution_count": 60,
   "id": "3dd73fae-3fb9-4d68-baed-eab0aeb4d0ca",
   "metadata": {},
   "outputs": [
    {
     "data": {
      "text/plain": [
       "('this is my first', ' ', 'string')"
      ]
     },
     "execution_count": 60,
     "metadata": {},
     "output_type": "execute_result"
    }
   ],
   "source": [
    "var1.rpartition(\" \")"
   ]
  },
  {
   "cell_type": "code",
   "execution_count": 61,
   "id": "cca68936-e577-4a1d-8004-34598ac38c2a",
   "metadata": {},
   "outputs": [
    {
     "data": {
      "text/plain": [
       "['this', 'is', 'my', 'first', 'string']"
      ]
     },
     "execution_count": 61,
     "metadata": {},
     "output_type": "execute_result"
    }
   ],
   "source": [
    "var1.split()"
   ]
  },
  {
   "cell_type": "code",
   "execution_count": 62,
   "id": "316ddeb9-9289-44c4-b1c7-2240b2148a43",
   "metadata": {},
   "outputs": [
    {
     "data": {
      "text/plain": [
       "['th', 's ', 's my f', 'rst str', 'ng']"
      ]
     },
     "execution_count": 62,
     "metadata": {},
     "output_type": "execute_result"
    }
   ],
   "source": [
    "var1.split(\"i\")"
   ]
  },
  {
   "cell_type": "code",
   "execution_count": 63,
   "id": "7df7dc07-409a-4b37-bf93-6c2c8d07a21e",
   "metadata": {},
   "outputs": [],
   "source": [
    "slist = var1.split(\"i\")"
   ]
  },
  {
   "cell_type": "code",
   "execution_count": 64,
   "id": "10f0ef7b-45d7-432b-af72-da8b41eee85e",
   "metadata": {},
   "outputs": [
    {
     "data": {
      "text/plain": [
       "['th', 's ', 's my f', 'rst str', 'ng']"
      ]
     },
     "execution_count": 64,
     "metadata": {},
     "output_type": "execute_result"
    }
   ],
   "source": [
    "slist"
   ]
  },
  {
   "cell_type": "code",
   "execution_count": 67,
   "id": "54fbeff4-1b16-47dd-8d8a-ff6f6b7820fb",
   "metadata": {},
   "outputs": [
    {
     "data": {
      "text/plain": [
       "'th@s @s my f@rst str@ng'"
      ]
     },
     "execution_count": 67,
     "metadata": {},
     "output_type": "execute_result"
    }
   ],
   "source": [
    "\"@\".join(slist)"
   ]
  },
  {
   "cell_type": "code",
   "execution_count": 69,
   "id": "490ed630-4222-4f77-8079-862a9d80569b",
   "metadata": {},
   "outputs": [],
   "source": [
    "friuts = [ \"Apple\", \"Banana\", \"Mango\", \"Orange\", \"Grapes\", \n",
    "    \"Pineapple\", \"Watermelon\", \"Papaya\", \"Guava\", \"Pomegranate\",\n",
    "    \"Lemon\", \"Lime\", \"Sweet Lime\", \"Grapefruit\", \"Peach\"]"
   ]
  },
  {
   "cell_type": "code",
   "execution_count": 72,
   "id": "958d939d-71c3-45b3-99c4-c06c8ef0e3e9",
   "metadata": {},
   "outputs": [
    {
     "data": {
      "text/plain": [
       "'Apple-Banana-Mango-Orange-Grapes-Pineapple-Watermelon-Papaya-Guava-Pomegranate-Lemon-Lime-Sweet Lime-Grapefruit-Peach'"
      ]
     },
     "execution_count": 72,
     "metadata": {},
     "output_type": "execute_result"
    }
   ],
   "source": [
    "\"-\".join(friuts)"
   ]
  },
  {
   "cell_type": "code",
   "execution_count": 73,
   "id": "0d81df02-3e06-4e22-b2d5-d838ebffec05",
   "metadata": {},
   "outputs": [
    {
     "data": {
      "text/plain": [
       "'this is my first string'"
      ]
     },
     "execution_count": 73,
     "metadata": {},
     "output_type": "execute_result"
    }
   ],
   "source": [
    "var1"
   ]
  },
  {
   "cell_type": "code",
   "execution_count": 75,
   "id": "38207dca-fd4f-431e-ba5f-fdec9d75e766",
   "metadata": {},
   "outputs": [
    {
     "data": {
      "text/plain": [
       "' is my first string'"
      ]
     },
     "execution_count": 75,
     "metadata": {},
     "output_type": "execute_result"
    }
   ],
   "source": [
    "var1.removeprefix(\"this\")"
   ]
  },
  {
   "cell_type": "code",
   "execution_count": 77,
   "id": "dfe49f80-e9f6-44c8-a555-f0804da119cc",
   "metadata": {},
   "outputs": [
    {
     "data": {
      "text/plain": [
       "'this is my first string'"
      ]
     },
     "execution_count": 77,
     "metadata": {},
     "output_type": "execute_result"
    }
   ],
   "source": [
    "var1.removesuffix(\"ingg\")"
   ]
  },
  {
   "cell_type": "code",
   "execution_count": 79,
   "id": "e9f2c276-3b7e-41d5-8826-2c433f4bb65c",
   "metadata": {},
   "outputs": [
    {
     "data": {
      "text/plain": [
       "False"
      ]
     },
     "execution_count": 79,
     "metadata": {},
     "output_type": "execute_result"
    }
   ],
   "source": [
    "var1.startswith(\"his\")"
   ]
  },
  {
   "cell_type": "code",
   "execution_count": 80,
   "id": "4f01229a-81d4-43cb-877c-64c0b79b1fd9",
   "metadata": {},
   "outputs": [
    {
     "data": {
      "text/plain": [
       "2"
      ]
     },
     "execution_count": 80,
     "metadata": {},
     "output_type": "execute_result"
    }
   ],
   "source": [
    "var1.find(\"i\")"
   ]
  },
  {
   "cell_type": "code",
   "execution_count": 82,
   "id": "55faf0a5-c7cf-44e3-bfac-1c3ca41fde07",
   "metadata": {},
   "outputs": [],
   "source": [
    "str1 = var1.replace(\"t\", \"T\")"
   ]
  },
  {
   "cell_type": "code",
   "execution_count": 83,
   "id": "ea5bdf88-bb92-42d2-9bf4-cdfff43cac0b",
   "metadata": {},
   "outputs": [
    {
     "data": {
      "text/plain": [
       "'This is my firsT sTring'"
      ]
     },
     "execution_count": 83,
     "metadata": {},
     "output_type": "execute_result"
    }
   ],
   "source": [
    "str1"
   ]
  },
  {
   "cell_type": "code",
   "execution_count": 84,
   "id": "2281c704-245e-4c0c-98ae-008d86065327",
   "metadata": {},
   "outputs": [
    {
     "data": {
      "text/plain": [
       "'tHIS IS MY FIRSt StRING'"
      ]
     },
     "execution_count": 84,
     "metadata": {},
     "output_type": "execute_result"
    }
   ],
   "source": [
    "str1.swapcase()"
   ]
  },
  {
   "cell_type": "code",
   "execution_count": 85,
   "id": "2ec836d6-c4a4-4478-bde5-238b26bd142c",
   "metadata": {},
   "outputs": [],
   "source": [
    "v1 = \"     string      \""
   ]
  },
  {
   "cell_type": "code",
   "execution_count": 86,
   "id": "fa5a4cab-210b-4570-a81a-c46ccead47f9",
   "metadata": {},
   "outputs": [
    {
     "data": {
      "text/plain": [
       "'     string      '"
      ]
     },
     "execution_count": 86,
     "metadata": {},
     "output_type": "execute_result"
    }
   ],
   "source": [
    "v1"
   ]
  },
  {
   "cell_type": "code",
   "execution_count": 87,
   "id": "30389e27-a245-406a-9470-4481f5fdd79a",
   "metadata": {},
   "outputs": [
    {
     "data": {
      "text/plain": [
       "'     string'"
      ]
     },
     "execution_count": 87,
     "metadata": {},
     "output_type": "execute_result"
    }
   ],
   "source": [
    "v1.rstrip()"
   ]
  },
  {
   "cell_type": "code",
   "execution_count": 88,
   "id": "273db315-63e5-43b0-970f-a4940e7e9ca6",
   "metadata": {},
   "outputs": [
    {
     "data": {
      "text/plain": [
       "'string      '"
      ]
     },
     "execution_count": 88,
     "metadata": {},
     "output_type": "execute_result"
    }
   ],
   "source": [
    "v1.lstrip()"
   ]
  },
  {
   "cell_type": "code",
   "execution_count": 89,
   "id": "4f0194ef-9612-4bf1-a654-fa8ab9b01467",
   "metadata": {},
   "outputs": [
    {
     "data": {
      "text/plain": [
       "'string'"
      ]
     },
     "execution_count": 89,
     "metadata": {},
     "output_type": "execute_result"
    }
   ],
   "source": [
    "v1.strip()"
   ]
  },
  {
   "cell_type": "code",
   "execution_count": 90,
   "id": "941c651e-ef6b-4fe9-aea3-9c472c7d47c8",
   "metadata": {},
   "outputs": [],
   "source": [
    "v2 = \"string&%%%\""
   ]
  },
  {
   "cell_type": "code",
   "execution_count": 91,
   "id": "6b305d95-885b-4342-b796-889cd961f137",
   "metadata": {},
   "outputs": [
    {
     "data": {
      "text/plain": [
       "'string&%%%'"
      ]
     },
     "execution_count": 91,
     "metadata": {},
     "output_type": "execute_result"
    }
   ],
   "source": [
    "v2.rstrip(\"&\")"
   ]
  },
  {
   "cell_type": "code",
   "execution_count": 92,
   "id": "8419e41c-5adc-4c31-9724-8125c22a2b49",
   "metadata": {},
   "outputs": [
    {
     "data": {
      "text/plain": [
       "'string%%%'"
      ]
     },
     "execution_count": 92,
     "metadata": {},
     "output_type": "execute_result"
    }
   ],
   "source": [
    "v2.replace(\"&\", \"\")"
   ]
  },
  {
   "cell_type": "code",
   "execution_count": 93,
   "id": "3be57d84-5c03-4bdb-a91c-b67a88c2d10e",
   "metadata": {},
   "outputs": [
    {
     "data": {
      "text/plain": [
       "'string'"
      ]
     },
     "execution_count": 93,
     "metadata": {},
     "output_type": "execute_result"
    }
   ],
   "source": [
    "v2.rstrip(\"&%\")"
   ]
  },
  {
   "cell_type": "code",
   "execution_count": null,
   "id": "64d9322d-878e-4ecb-a20f-11a3f37e074d",
   "metadata": {},
   "outputs": [],
   "source": []
  },
  {
   "cell_type": "code",
   "execution_count": null,
   "id": "0e6d5326-bba5-4538-afb3-725a08d24bfa",
   "metadata": {},
   "outputs": [],
   "source": []
  }
 ],
 "metadata": {
  "kernelspec": {
   "display_name": "Python 3 (ipykernel)",
   "language": "python",
   "name": "python3"
  },
  "language_info": {
   "codemirror_mode": {
    "name": "ipython",
    "version": 3
   },
   "file_extension": ".py",
   "mimetype": "text/x-python",
   "name": "python",
   "nbconvert_exporter": "python",
   "pygments_lexer": "ipython3",
   "version": "3.11.7"
  }
 },
 "nbformat": 4,
 "nbformat_minor": 5
}
