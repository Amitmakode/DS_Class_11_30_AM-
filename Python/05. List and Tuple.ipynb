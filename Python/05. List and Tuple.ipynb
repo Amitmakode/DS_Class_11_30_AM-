{
 "cells": [
  {
   "cell_type": "markdown",
   "id": "40e3e8b0-86cf-41b6-a5aa-7ff8a52e3e7f",
   "metadata": {},
   "source": [
    "## List"
   ]
  },
  {
   "cell_type": "code",
   "execution_count": 7,
   "id": "64eaf7fa-575e-4386-9b3c-988c006b4c84",
   "metadata": {},
   "outputs": [],
   "source": [
    "fruits = [ \"Apple\", \"Banana\", \"Mango\", \"Orange\", \"Grapes\", \n",
    "    \"Pineapple\", \"Watermelon\", \"Papaya\", \"Guava\", \"Pomegranate\",\n",
    "    \"Lemon\", \"Lime\", \"Sweet Lime\", \"Grapefruit\", \"Peach\"]"
   ]
  },
  {
   "cell_type": "code",
   "execution_count": 8,
   "id": "8ef1b2c8-4d49-47b3-8130-26ef8f0e3fcf",
   "metadata": {},
   "outputs": [],
   "source": [
    "my_list = [45, 62, 38, 52, 18, 76, 64, 28]"
   ]
  },
  {
   "cell_type": "code",
   "execution_count": 9,
   "id": "16e0b2e7-4049-421d-a041-016ee944e345",
   "metadata": {},
   "outputs": [
    {
     "data": {
      "text/plain": [
       "'Grapes'"
      ]
     },
     "execution_count": 9,
     "metadata": {},
     "output_type": "execute_result"
    }
   ],
   "source": [
    "fruits[4]"
   ]
  },
  {
   "cell_type": "code",
   "execution_count": 10,
   "id": "bfd03fdc-fbd4-469a-ba3b-613bb1b9d50c",
   "metadata": {},
   "outputs": [
    {
     "data": {
      "text/plain": [
       "'Lemon'"
      ]
     },
     "execution_count": 10,
     "metadata": {},
     "output_type": "execute_result"
    }
   ],
   "source": [
    "fruits[-5]"
   ]
  },
  {
   "cell_type": "code",
   "execution_count": 11,
   "id": "d17bac49-0df1-40c2-a270-7f4e92ded2c2",
   "metadata": {},
   "outputs": [
    {
     "data": {
      "text/plain": [
       "['Orange', 'Pineapple', 'Papaya', 'Pomegranate']"
      ]
     },
     "execution_count": 11,
     "metadata": {},
     "output_type": "execute_result"
    }
   ],
   "source": [
    "fruits[3:10:2]"
   ]
  },
  {
   "cell_type": "code",
   "execution_count": 12,
   "id": "6ae867fe-b962-4a3e-9326-2a07d5db947f",
   "metadata": {},
   "outputs": [
    {
     "data": {
      "text/plain": [
       "['Peach',\n",
       " 'Grapefruit',\n",
       " 'Sweet Lime',\n",
       " 'Lime',\n",
       " 'Lemon',\n",
       " 'Pomegranate',\n",
       " 'Guava',\n",
       " 'Papaya',\n",
       " 'Watermelon',\n",
       " 'Pineapple',\n",
       " 'Grapes',\n",
       " 'Orange',\n",
       " 'Mango',\n",
       " 'Banana',\n",
       " 'Apple']"
      ]
     },
     "execution_count": 12,
     "metadata": {},
     "output_type": "execute_result"
    }
   ],
   "source": [
    "fruits[::-1]"
   ]
  },
  {
   "cell_type": "code",
   "execution_count": 13,
   "id": "13adedc9-5f66-4a7c-b8bd-19e3659db4e4",
   "metadata": {},
   "outputs": [
    {
     "data": {
      "text/plain": [
       "['Apple',\n",
       " 'Banana',\n",
       " 'Mango',\n",
       " 'Orange',\n",
       " 'Grapes',\n",
       " 'Pineapple',\n",
       " 'Watermelon',\n",
       " 'Papaya',\n",
       " 'Guava',\n",
       " 'Pomegranate',\n",
       " 'Lemon',\n",
       " 'Lime',\n",
       " 'Sweet Lime',\n",
       " 'Grapefruit',\n",
       " 'Peach',\n",
       " 45,\n",
       " 62,\n",
       " 38,\n",
       " 52,\n",
       " 18,\n",
       " 76,\n",
       " 64,\n",
       " 28]"
      ]
     },
     "execution_count": 13,
     "metadata": {},
     "output_type": "execute_result"
    }
   ],
   "source": [
    "fruits + my_list"
   ]
  },
  {
   "cell_type": "code",
   "execution_count": 14,
   "id": "b31ad5f9-256c-45b1-94cb-5c254f15627d",
   "metadata": {},
   "outputs": [
    {
     "data": {
      "text/plain": [
       "[45,\n",
       " 62,\n",
       " 38,\n",
       " 52,\n",
       " 18,\n",
       " 76,\n",
       " 64,\n",
       " 28,\n",
       " 45,\n",
       " 62,\n",
       " 38,\n",
       " 52,\n",
       " 18,\n",
       " 76,\n",
       " 64,\n",
       " 28,\n",
       " 45,\n",
       " 62,\n",
       " 38,\n",
       " 52,\n",
       " 18,\n",
       " 76,\n",
       " 64,\n",
       " 28]"
      ]
     },
     "execution_count": 14,
     "metadata": {},
     "output_type": "execute_result"
    }
   ],
   "source": [
    "my_list*3"
   ]
  },
  {
   "cell_type": "code",
   "execution_count": 15,
   "id": "3c6f6faa-a867-4a28-a202-a22dae55f7cf",
   "metadata": {},
   "outputs": [
    {
     "data": {
      "text/plain": [
       "[45, 62, 38, 52, 18, 76, 64, 28]"
      ]
     },
     "execution_count": 15,
     "metadata": {},
     "output_type": "execute_result"
    }
   ],
   "source": [
    "my_list"
   ]
  },
  {
   "cell_type": "code",
   "execution_count": 16,
   "id": "accec5fa-0ffa-4536-a575-841ff03734fe",
   "metadata": {},
   "outputs": [],
   "source": [
    "my_list[1] = 66"
   ]
  },
  {
   "cell_type": "code",
   "execution_count": 17,
   "id": "aabc8d14-2528-46c2-b479-598608fb6a50",
   "metadata": {},
   "outputs": [
    {
     "data": {
      "text/plain": [
       "[45, 66, 38, 52, 18, 76, 64, 28]"
      ]
     },
     "execution_count": 17,
     "metadata": {},
     "output_type": "execute_result"
    }
   ],
   "source": [
    "my_list"
   ]
  },
  {
   "cell_type": "code",
   "execution_count": 18,
   "id": "355f7127-1311-4287-a83a-2120effde3c3",
   "metadata": {},
   "outputs": [],
   "source": [
    "l1 = my_list.copy()"
   ]
  },
  {
   "cell_type": "code",
   "execution_count": 35,
   "id": "5425025a-b780-404f-8a94-8f70d05f4d1a",
   "metadata": {},
   "outputs": [
    {
     "data": {
      "text/plain": [
       "3"
      ]
     },
     "execution_count": 35,
     "metadata": {},
     "output_type": "execute_result"
    }
   ],
   "source": [
    "l1.count(38)"
   ]
  },
  {
   "cell_type": "code",
   "execution_count": 21,
   "id": "57905773-abf7-4bb6-b577-c7134add574c",
   "metadata": {},
   "outputs": [],
   "source": [
    "l1.append(38)"
   ]
  },
  {
   "cell_type": "code",
   "execution_count": 22,
   "id": "4d82571d-a0e9-43fc-9fb9-e557974d63c6",
   "metadata": {},
   "outputs": [
    {
     "data": {
      "text/plain": [
       "[45, 66, 38, 52, 18, 76, 64, 28, 38]"
      ]
     },
     "execution_count": 22,
     "metadata": {},
     "output_type": "execute_result"
    }
   ],
   "source": [
    "l1"
   ]
  },
  {
   "cell_type": "code",
   "execution_count": 24,
   "id": "01f88a97-cecf-4e75-bc6f-bdb8c4bbdf28",
   "metadata": {},
   "outputs": [],
   "source": [
    "l1.append([38, 37])"
   ]
  },
  {
   "cell_type": "code",
   "execution_count": 25,
   "id": "5c366952-5980-4e3e-9347-c2f58f003a76",
   "metadata": {},
   "outputs": [
    {
     "data": {
      "text/plain": [
       "[45, 66, 38, 52, 18, 76, 64, 28, 38, [38, 37]]"
      ]
     },
     "execution_count": 25,
     "metadata": {},
     "output_type": "execute_result"
    }
   ],
   "source": [
    "l1"
   ]
  },
  {
   "cell_type": "code",
   "execution_count": 27,
   "id": "d2db468e-a6ab-4628-9de2-880377854605",
   "metadata": {},
   "outputs": [],
   "source": [
    "l1.extend([38, 37])"
   ]
  },
  {
   "cell_type": "code",
   "execution_count": 28,
   "id": "e6c91963-0730-46c4-8fdf-929a22b85035",
   "metadata": {},
   "outputs": [
    {
     "data": {
      "text/plain": [
       "[45, 66, 38, 52, 18, 76, 64, 28, 38, [38, 37], 38, 37]"
      ]
     },
     "execution_count": 28,
     "metadata": {},
     "output_type": "execute_result"
    }
   ],
   "source": [
    "l1"
   ]
  },
  {
   "cell_type": "code",
   "execution_count": 31,
   "id": "ec671cfd-6a50-4bae-96a5-7d853fd9a6b0",
   "metadata": {},
   "outputs": [],
   "source": [
    "l1.insert(3, 41)"
   ]
  },
  {
   "cell_type": "code",
   "execution_count": 32,
   "id": "b7a245da-8bda-42ba-9c7f-d333566bc4d1",
   "metadata": {},
   "outputs": [
    {
     "data": {
      "text/plain": [
       "[45, 66, 38, 41, 52, 18, 76, 64, 28, 38, [38, 37], 38, 37, 4]"
      ]
     },
     "execution_count": 32,
     "metadata": {},
     "output_type": "execute_result"
    }
   ],
   "source": [
    "l1"
   ]
  },
  {
   "cell_type": "code",
   "execution_count": 33,
   "id": "ba7a47bd-05d2-47d0-89df-1d7fd6be00a1",
   "metadata": {},
   "outputs": [],
   "source": [
    "l1.insert(3, (42))"
   ]
  },
  {
   "cell_type": "code",
   "execution_count": 40,
   "id": "98a57c31-0b98-4f43-b91d-df84a0638ec7",
   "metadata": {},
   "outputs": [
    {
     "data": {
      "text/plain": [
       "[45, 66, 38, 42, 41, 52, 18, 76, 64, 28, 38, [38, 37], 38]"
      ]
     },
     "execution_count": 40,
     "metadata": {},
     "output_type": "execute_result"
    }
   ],
   "source": [
    "l1"
   ]
  },
  {
   "cell_type": "code",
   "execution_count": 36,
   "id": "735cebb3-7bd9-4a5d-a06a-20713e2ea3a6",
   "metadata": {},
   "outputs": [
    {
     "data": {
      "text/plain": [
       "7"
      ]
     },
     "execution_count": 36,
     "metadata": {},
     "output_type": "execute_result"
    }
   ],
   "source": [
    "l1.index(76)"
   ]
  },
  {
   "cell_type": "code",
   "execution_count": 39,
   "id": "0e7d0be0-8603-4756-98b5-be96dbe94976",
   "metadata": {},
   "outputs": [
    {
     "data": {
      "text/plain": [
       "37"
      ]
     },
     "execution_count": 39,
     "metadata": {},
     "output_type": "execute_result"
    }
   ],
   "source": [
    "l1.pop()"
   ]
  },
  {
   "cell_type": "code",
   "execution_count": 43,
   "id": "1b670414-d65c-4df7-ab02-f830b913008b",
   "metadata": {},
   "outputs": [],
   "source": [
    "l1.remove(18)"
   ]
  },
  {
   "cell_type": "code",
   "execution_count": 44,
   "id": "021a9d15-f812-422a-8006-1a583267ece3",
   "metadata": {},
   "outputs": [
    {
     "data": {
      "text/plain": [
       "[45, 66, 42, 41, 52, 76, 64, 28, 38, [38, 37], 38]"
      ]
     },
     "execution_count": 44,
     "metadata": {},
     "output_type": "execute_result"
    }
   ],
   "source": [
    "l1"
   ]
  },
  {
   "cell_type": "code",
   "execution_count": 45,
   "id": "66301031-c00b-4f61-baca-a13c85817dd4",
   "metadata": {},
   "outputs": [],
   "source": [
    "l1.reverse()"
   ]
  },
  {
   "cell_type": "code",
   "execution_count": 46,
   "id": "7f4c1277-e965-4796-a053-54758afca482",
   "metadata": {},
   "outputs": [
    {
     "data": {
      "text/plain": [
       "[38, [38, 37], 38, 28, 64, 76, 52, 41, 42, 66, 45]"
      ]
     },
     "execution_count": 46,
     "metadata": {},
     "output_type": "execute_result"
    }
   ],
   "source": [
    "l1"
   ]
  },
  {
   "cell_type": "code",
   "execution_count": 47,
   "id": "15447e8e-4db9-44d0-a0d3-3d21c496acc6",
   "metadata": {},
   "outputs": [
    {
     "ename": "TypeError",
     "evalue": "'<' not supported between instances of 'list' and 'int'",
     "output_type": "error",
     "traceback": [
      "\u001b[1;31m---------------------------------------------------------------------------\u001b[0m",
      "\u001b[1;31mTypeError\u001b[0m                                 Traceback (most recent call last)",
      "Cell \u001b[1;32mIn[47], line 1\u001b[0m\n\u001b[1;32m----> 1\u001b[0m l1\u001b[38;5;241m.\u001b[39msort()\n",
      "\u001b[1;31mTypeError\u001b[0m: '<' not supported between instances of 'list' and 'int'"
     ]
    }
   ],
   "source": [
    "l1.sort()"
   ]
  },
  {
   "cell_type": "code",
   "execution_count": 50,
   "id": "2c66a0c8-271d-477e-9f5a-9f877d531e7c",
   "metadata": {},
   "outputs": [],
   "source": [
    "my_list.sort(reverse=True)"
   ]
  },
  {
   "cell_type": "code",
   "execution_count": 51,
   "id": "ed777115-40ab-43fc-9ea5-5944f93ca3a1",
   "metadata": {},
   "outputs": [
    {
     "data": {
      "text/plain": [
       "[76, 66, 64, 52, 45, 38, 28, 18]"
      ]
     },
     "execution_count": 51,
     "metadata": {},
     "output_type": "execute_result"
    }
   ],
   "source": [
    "my_list"
   ]
  },
  {
   "cell_type": "code",
   "execution_count": 52,
   "id": "f0b372df-da5b-49a2-852b-b3a35ee81bb0",
   "metadata": {},
   "outputs": [],
   "source": [
    "l1.clear()"
   ]
  },
  {
   "cell_type": "code",
   "execution_count": 53,
   "id": "52354e2c-d0ff-408b-baa5-1b3eb3657495",
   "metadata": {},
   "outputs": [
    {
     "data": {
      "text/plain": [
       "[]"
      ]
     },
     "execution_count": 53,
     "metadata": {},
     "output_type": "execute_result"
    }
   ],
   "source": [
    "l1"
   ]
  },
  {
   "cell_type": "markdown",
   "id": "b4e067f8-d1e6-405d-9ddf-1b48dda57776",
   "metadata": {},
   "source": [
    "## Tuple"
   ]
  },
  {
   "cell_type": "code",
   "execution_count": 54,
   "id": "7600268e-3f19-4f46-8099-9cb751d3d2b8",
   "metadata": {},
   "outputs": [],
   "source": [
    "t1 = (38, 28, 64, 76, 52, 41, 42, 66, 45)"
   ]
  },
  {
   "cell_type": "code",
   "execution_count": 55,
   "id": "4470a8f3-696f-4776-aa65-74184d5732e6",
   "metadata": {},
   "outputs": [
    {
     "data": {
      "text/plain": [
       "41"
      ]
     },
     "execution_count": 55,
     "metadata": {},
     "output_type": "execute_result"
    }
   ],
   "source": [
    "t1[5]"
   ]
  },
  {
   "cell_type": "code",
   "execution_count": 56,
   "id": "030452cc-9aa3-4b51-b30d-823846e8e9c7",
   "metadata": {},
   "outputs": [
    {
     "data": {
      "text/plain": [
       "41"
      ]
     },
     "execution_count": 56,
     "metadata": {},
     "output_type": "execute_result"
    }
   ],
   "source": [
    "t1[-4]"
   ]
  },
  {
   "cell_type": "code",
   "execution_count": 57,
   "id": "d14c4b19-81c5-488c-8afb-d7ed3ddbf195",
   "metadata": {},
   "outputs": [
    {
     "data": {
      "text/plain": [
       "(38, 28, 64, 76, 52, 41, 42, 66)"
      ]
     },
     "execution_count": 57,
     "metadata": {},
     "output_type": "execute_result"
    }
   ],
   "source": [
    "t1[:8]"
   ]
  },
  {
   "cell_type": "code",
   "execution_count": 58,
   "id": "e0a09390-627a-49d8-8a45-befcd5239924",
   "metadata": {},
   "outputs": [
    {
     "data": {
      "text/plain": [
       "(45, 66, 42, 41, 52, 76, 64, 28, 38)"
      ]
     },
     "execution_count": 58,
     "metadata": {},
     "output_type": "execute_result"
    }
   ],
   "source": [
    "t1[::-1]"
   ]
  },
  {
   "cell_type": "code",
   "execution_count": 59,
   "id": "281e8834-8670-403f-a409-67de852ee2b0",
   "metadata": {},
   "outputs": [
    {
     "data": {
      "text/plain": [
       "(38, 28, 64, 76, 52, 41, 42, 66, 45, 38, 28, 64, 76, 52, 41, 42, 66, 45)"
      ]
     },
     "execution_count": 59,
     "metadata": {},
     "output_type": "execute_result"
    }
   ],
   "source": [
    "t1 + t1"
   ]
  },
  {
   "cell_type": "code",
   "execution_count": 60,
   "id": "ad87dc5a-29c4-41c7-b4b0-698848604b8d",
   "metadata": {},
   "outputs": [
    {
     "data": {
      "text/plain": [
       "(38,\n",
       " 28,\n",
       " 64,\n",
       " 76,\n",
       " 52,\n",
       " 41,\n",
       " 42,\n",
       " 66,\n",
       " 45,\n",
       " 38,\n",
       " 28,\n",
       " 64,\n",
       " 76,\n",
       " 52,\n",
       " 41,\n",
       " 42,\n",
       " 66,\n",
       " 45,\n",
       " 38,\n",
       " 28,\n",
       " 64,\n",
       " 76,\n",
       " 52,\n",
       " 41,\n",
       " 42,\n",
       " 66,\n",
       " 45)"
      ]
     },
     "execution_count": 60,
     "metadata": {},
     "output_type": "execute_result"
    }
   ],
   "source": [
    "t1 * 3"
   ]
  },
  {
   "cell_type": "code",
   "execution_count": 62,
   "id": "4382232e-e17a-4233-88be-fb624f5f01f5",
   "metadata": {},
   "outputs": [
    {
     "ename": "TypeError",
     "evalue": "'tuple' object does not support item assignment",
     "output_type": "error",
     "traceback": [
      "\u001b[1;31m---------------------------------------------------------------------------\u001b[0m",
      "\u001b[1;31mTypeError\u001b[0m                                 Traceback (most recent call last)",
      "Cell \u001b[1;32mIn[62], line 1\u001b[0m\n\u001b[1;32m----> 1\u001b[0m t1[\u001b[38;5;241m2\u001b[39m] \u001b[38;5;241m=\u001b[39m \u001b[38;5;241m68\u001b[39m\n",
      "\u001b[1;31mTypeError\u001b[0m: 'tuple' object does not support item assignment"
     ]
    }
   ],
   "source": [
    "t1[2] = 68"
   ]
  },
  {
   "cell_type": "code",
   "execution_count": 63,
   "id": "b435b05e-f9bf-49f1-81a0-839af5682eca",
   "metadata": {},
   "outputs": [
    {
     "data": {
      "text/plain": [
       "1"
      ]
     },
     "execution_count": 63,
     "metadata": {},
     "output_type": "execute_result"
    }
   ],
   "source": [
    "t1.count(42)"
   ]
  },
  {
   "cell_type": "code",
   "execution_count": 64,
   "id": "d995cf25-af98-4670-8654-4a61310e0345",
   "metadata": {},
   "outputs": [
    {
     "data": {
      "text/plain": [
       "0"
      ]
     },
     "execution_count": 64,
     "metadata": {},
     "output_type": "execute_result"
    }
   ],
   "source": [
    "t1.index(38)"
   ]
  },
  {
   "cell_type": "code",
   "execution_count": 66,
   "id": "2d7672c8-2923-42df-8c00-0a492cbfdbdc",
   "metadata": {},
   "outputs": [
    {
     "ename": "TypeError",
     "evalue": "can only concatenate list (not \"tuple\") to list",
     "output_type": "error",
     "traceback": [
      "\u001b[1;31m---------------------------------------------------------------------------\u001b[0m",
      "\u001b[1;31mTypeError\u001b[0m                                 Traceback (most recent call last)",
      "Cell \u001b[1;32mIn[66], line 1\u001b[0m\n\u001b[1;32m----> 1\u001b[0m my_list \u001b[38;5;241m+\u001b[39m t1\n",
      "\u001b[1;31mTypeError\u001b[0m: can only concatenate list (not \"tuple\") to list"
     ]
    }
   ],
   "source": [
    "my_list + t1"
   ]
  },
  {
   "cell_type": "code",
   "execution_count": 67,
   "id": "38d845f4-c1ef-470e-b235-a07a3a681ed6",
   "metadata": {},
   "outputs": [
    {
     "data": {
      "text/plain": [
       "(38, 28, 64, 76, 52, 41, 42, 66, 45)"
      ]
     },
     "execution_count": 67,
     "metadata": {},
     "output_type": "execute_result"
    }
   ],
   "source": [
    "t1"
   ]
  },
  {
   "cell_type": "code",
   "execution_count": 69,
   "id": "7e1bf5f7-6e35-4386-bd52-2f243040aa55",
   "metadata": {},
   "outputs": [],
   "source": [
    "t2 =(38, 28, 64, 76,)"
   ]
  },
  {
   "cell_type": "code",
   "execution_count": 70,
   "id": "ef8baa1e-6bfd-4921-968d-bbf4d6e726d6",
   "metadata": {},
   "outputs": [
    {
     "data": {
      "text/plain": [
       "(38, 28, 64, 76)"
      ]
     },
     "execution_count": 70,
     "metadata": {},
     "output_type": "execute_result"
    }
   ],
   "source": [
    "t2"
   ]
  },
  {
   "cell_type": "code",
   "execution_count": 71,
   "id": "2898884d-2495-47be-a43a-818dcfcf0394",
   "metadata": {},
   "outputs": [],
   "source": [
    "a, b, c, d = t2"
   ]
  },
  {
   "cell_type": "code",
   "execution_count": 72,
   "id": "25ae061b-4ef5-49f8-aca6-87cba208222a",
   "metadata": {},
   "outputs": [
    {
     "data": {
      "text/plain": [
       "38"
      ]
     },
     "execution_count": 72,
     "metadata": {},
     "output_type": "execute_result"
    }
   ],
   "source": [
    "a"
   ]
  },
  {
   "cell_type": "code",
   "execution_count": 73,
   "id": "73303e0b-dc41-416a-a8eb-636cdbeb3c1a",
   "metadata": {},
   "outputs": [
    {
     "data": {
      "text/plain": [
       "28"
      ]
     },
     "execution_count": 73,
     "metadata": {},
     "output_type": "execute_result"
    }
   ],
   "source": [
    "b"
   ]
  },
  {
   "cell_type": "code",
   "execution_count": 74,
   "id": "819e53a4-6034-44c2-a540-e3ba304e11d6",
   "metadata": {},
   "outputs": [
    {
     "data": {
      "text/plain": [
       "64"
      ]
     },
     "execution_count": 74,
     "metadata": {},
     "output_type": "execute_result"
    }
   ],
   "source": [
    "c"
   ]
  },
  {
   "cell_type": "code",
   "execution_count": 75,
   "id": "1327c974-df4a-4e1c-af58-d87670286134",
   "metadata": {},
   "outputs": [
    {
     "data": {
      "text/plain": [
       "76"
      ]
     },
     "execution_count": 75,
     "metadata": {},
     "output_type": "execute_result"
    }
   ],
   "source": [
    "d"
   ]
  },
  {
   "cell_type": "code",
   "execution_count": 76,
   "id": "174b722b-013d-498e-8b54-de08f94ce2e4",
   "metadata": {},
   "outputs": [
    {
     "data": {
      "text/plain": [
       "(38, 28, 64, 76, 52, 41, 42, 66, 45)"
      ]
     },
     "execution_count": 76,
     "metadata": {},
     "output_type": "execute_result"
    }
   ],
   "source": [
    "t1"
   ]
  },
  {
   "cell_type": "code",
   "execution_count": 77,
   "id": "cfd3c2e6-32b0-42d8-a248-8dac93465585",
   "metadata": {},
   "outputs": [
    {
     "data": {
      "text/plain": [
       "True"
      ]
     },
     "execution_count": 77,
     "metadata": {},
     "output_type": "execute_result"
    }
   ],
   "source": [
    "66 in t1"
   ]
  },
  {
   "cell_type": "code",
   "execution_count": 78,
   "id": "487d085f-3a15-4ab3-9256-4313a234a72f",
   "metadata": {},
   "outputs": [
    {
     "data": {
      "text/plain": [
       "False"
      ]
     },
     "execution_count": 78,
     "metadata": {},
     "output_type": "execute_result"
    }
   ],
   "source": [
    "t1 is t2"
   ]
  },
  {
   "cell_type": "code",
   "execution_count": 81,
   "id": "0d49ed5e-6d27-448b-8e97-2566b205a749",
   "metadata": {},
   "outputs": [],
   "source": [
    "l1.append(\"45\")"
   ]
  },
  {
   "cell_type": "code",
   "execution_count": 82,
   "id": "4cdc7b3a-5eaf-489c-a10a-895025a750a9",
   "metadata": {},
   "outputs": [
    {
     "data": {
      "text/plain": [
       "[45, '45']"
      ]
     },
     "execution_count": 82,
     "metadata": {},
     "output_type": "execute_result"
    }
   ],
   "source": [
    "l1"
   ]
  },
  {
   "cell_type": "code",
   "execution_count": 84,
   "id": "a59f0e48-c635-44a3-ac73-7e3a3a0cf512",
   "metadata": {},
   "outputs": [],
   "source": [
    "l1.extend(\"45\")"
   ]
  },
  {
   "cell_type": "code",
   "execution_count": 85,
   "id": "ef1c7819-09ac-4183-ad3d-900df9c680ce",
   "metadata": {},
   "outputs": [
    {
     "data": {
      "text/plain": [
       "[45, '45', '4', '5']"
      ]
     },
     "execution_count": 85,
     "metadata": {},
     "output_type": "execute_result"
    }
   ],
   "source": [
    "l1"
   ]
  },
  {
   "cell_type": "code",
   "execution_count": 86,
   "id": "545e39ea-fd3f-4054-bee5-f75e4885c7af",
   "metadata": {},
   "outputs": [],
   "source": [
    "l1.insert(2, \"44\")"
   ]
  },
  {
   "cell_type": "code",
   "execution_count": 87,
   "id": "17d934d9-e15b-43a1-8690-a4c89856026f",
   "metadata": {},
   "outputs": [
    {
     "data": {
      "text/plain": [
       "[45, '45', '44', '4', '5']"
      ]
     },
     "execution_count": 87,
     "metadata": {},
     "output_type": "execute_result"
    }
   ],
   "source": [
    "l1"
   ]
  },
  {
   "cell_type": "code",
   "execution_count": 88,
   "id": "539328cf-b19c-420d-a910-330e084c8587",
   "metadata": {},
   "outputs": [],
   "source": [
    "l1.insert(2, 88)"
   ]
  },
  {
   "cell_type": "code",
   "execution_count": 90,
   "id": "310becc1-30f0-4387-8d36-8a5d32976fb2",
   "metadata": {},
   "outputs": [],
   "source": [
    "l1.insert(4, [2,3,4])"
   ]
  },
  {
   "cell_type": "code",
   "execution_count": 91,
   "id": "43469c59-b087-41ef-abd1-ab3ae1772365",
   "metadata": {},
   "outputs": [
    {
     "data": {
      "text/plain": [
       "[45, '45', 88, '44', [2, 3, 4], '4', '5']"
      ]
     },
     "execution_count": 91,
     "metadata": {},
     "output_type": "execute_result"
    }
   ],
   "source": [
    "l1"
   ]
  },
  {
   "cell_type": "code",
   "execution_count": 92,
   "id": "7afd4023-39b5-41e0-a8a9-6c0ca6733623",
   "metadata": {},
   "outputs": [],
   "source": [
    "var = \"analysis\""
   ]
  },
  {
   "cell_type": "code",
   "execution_count": 93,
   "id": "9b37f906-1455-4666-8c44-bd3a0007ac33",
   "metadata": {},
   "outputs": [
    {
     "data": {
      "text/plain": [
       "'                     analysis                     '"
      ]
     },
     "execution_count": 93,
     "metadata": {},
     "output_type": "execute_result"
    }
   ],
   "source": [
    "var.center(50)"
   ]
  },
  {
   "cell_type": "code",
   "execution_count": 94,
   "id": "d5cf5ae4-5c58-4708-9a54-4aceb387ec97",
   "metadata": {},
   "outputs": [
    {
     "data": {
      "text/plain": [
       "True"
      ]
     },
     "execution_count": 94,
     "metadata": {},
     "output_type": "execute_result"
    }
   ],
   "source": [
    "var.islower()"
   ]
  },
  {
   "cell_type": "code",
   "execution_count": 96,
   "id": "0fd0d7e8-7665-4998-b9e1-bec1103f7c0e",
   "metadata": {},
   "outputs": [
    {
     "data": {
      "text/plain": [
       "'analsis'"
      ]
     },
     "execution_count": 96,
     "metadata": {},
     "output_type": "execute_result"
    }
   ],
   "source": [
    "var.replace(\"y\", \"\")"
   ]
  },
  {
   "cell_type": "code",
   "execution_count": 97,
   "id": "a73ead51-f336-4422-96dc-a00c5e5e38c2",
   "metadata": {},
   "outputs": [
    {
     "data": {
      "text/plain": [
       "['ana', 'ysis']"
      ]
     },
     "execution_count": 97,
     "metadata": {},
     "output_type": "execute_result"
    }
   ],
   "source": [
    "var.split(\"l\")"
   ]
  },
  {
   "cell_type": "code",
   "execution_count": 98,
   "id": "c1360147-450d-47ee-a351-5ffc8cdc4372",
   "metadata": {},
   "outputs": [
    {
     "data": {
      "text/plain": [
       "('anal', 'y', 'sis')"
      ]
     },
     "execution_count": 98,
     "metadata": {},
     "output_type": "execute_result"
    }
   ],
   "source": [
    "var.partition(\"y\")"
   ]
  },
  {
   "cell_type": "code",
   "execution_count": 99,
   "id": "ecc2c57b-ad85-4642-a208-f517b9278c2e",
   "metadata": {},
   "outputs": [
    {
     "data": {
      "text/plain": [
       "'ANALYSIS'"
      ]
     },
     "execution_count": 99,
     "metadata": {},
     "output_type": "execute_result"
    }
   ],
   "source": [
    "var.swapcase()"
   ]
  },
  {
   "cell_type": "code",
   "execution_count": 100,
   "id": "dc976821-a358-4e7f-ad0e-6b9f09c92c68",
   "metadata": {},
   "outputs": [
    {
     "data": {
      "text/plain": [
       "True"
      ]
     },
     "execution_count": 100,
     "metadata": {},
     "output_type": "execute_result"
    }
   ],
   "source": [
    "var.isalnum()"
   ]
  },
  {
   "cell_type": "code",
   "execution_count": 107,
   "id": "ac083248-605e-4d73-912a-a6785bf10ab5",
   "metadata": {},
   "outputs": [],
   "source": [
    "var2 = \"data*3\""
   ]
  },
  {
   "cell_type": "code",
   "execution_count": 108,
   "id": "b1897e66-32f8-40c7-b44d-7687dc63c330",
   "metadata": {},
   "outputs": [
    {
     "data": {
      "text/plain": [
       "False"
      ]
     },
     "execution_count": 108,
     "metadata": {},
     "output_type": "execute_result"
    }
   ],
   "source": [
    "var2.isalnum()"
   ]
  },
  {
   "cell_type": "code",
   "execution_count": 111,
   "id": "a243f796-3003-407b-8251-3ff37c7ecc91",
   "metadata": {},
   "outputs": [
    {
     "data": {
      "text/plain": [
       "True"
      ]
     },
     "execution_count": 111,
     "metadata": {},
     "output_type": "execute_result"
    }
   ],
   "source": [
    "var.endswith(\"sis\")"
   ]
  },
  {
   "cell_type": "code",
   "execution_count": 113,
   "id": "074e311c-070a-4c3b-bad1-212694692c1b",
   "metadata": {},
   "outputs": [
    {
     "data": {
      "text/plain": [
       "[38, 28, 64, 76, 52, 41, 42, 66, 45]"
      ]
     },
     "execution_count": 113,
     "metadata": {},
     "output_type": "execute_result"
    }
   ],
   "source": [
    "list(t1)"
   ]
  },
  {
   "cell_type": "code",
   "execution_count": null,
   "id": "3e73fb3e-262c-4162-bb3b-4164d46153e8",
   "metadata": {},
   "outputs": [],
   "source": []
  }
 ],
 "metadata": {
  "kernelspec": {
   "display_name": "Python 3 (ipykernel)",
   "language": "python",
   "name": "python3"
  },
  "language_info": {
   "codemirror_mode": {
    "name": "ipython",
    "version": 3
   },
   "file_extension": ".py",
   "mimetype": "text/x-python",
   "name": "python",
   "nbconvert_exporter": "python",
   "pygments_lexer": "ipython3",
   "version": "3.11.7"
  }
 },
 "nbformat": 4,
 "nbformat_minor": 5
}
