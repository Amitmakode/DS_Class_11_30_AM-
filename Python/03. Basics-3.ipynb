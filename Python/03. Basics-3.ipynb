{
 "cells": [
  {
   "cell_type": "code",
   "execution_count": 1,
   "id": "cf2c821a-4301-454c-8ce5-11549597f928",
   "metadata": {},
   "outputs": [],
   "source": [
    "n1 = -87"
   ]
  },
  {
   "cell_type": "code",
   "execution_count": 2,
   "id": "eea241af-9538-4374-a856-c249e85d3374",
   "metadata": {},
   "outputs": [
    {
     "data": {
      "text/plain": [
       "-87"
      ]
     },
     "execution_count": 2,
     "metadata": {},
     "output_type": "execute_result"
    }
   ],
   "source": [
    "n1"
   ]
  },
  {
   "cell_type": "code",
   "execution_count": 3,
   "id": "18047594-630b-435d-9aaf-cf7b1ecadcfa",
   "metadata": {},
   "outputs": [
    {
     "data": {
      "text/plain": [
       "87"
      ]
     },
     "execution_count": 3,
     "metadata": {},
     "output_type": "execute_result"
    }
   ],
   "source": [
    "abs(n1)"
   ]
  },
  {
   "cell_type": "code",
   "execution_count": 4,
   "id": "27af51aa-a446-4c55-9a4e-9b4454070ee3",
   "metadata": {},
   "outputs": [
    {
     "data": {
      "text/plain": [
       "'C'"
      ]
     },
     "execution_count": 4,
     "metadata": {},
     "output_type": "execute_result"
    }
   ],
   "source": [
    "chr(67)"
   ]
  },
  {
   "cell_type": "code",
   "execution_count": 5,
   "id": "37e8448a-8ba5-473f-9847-f16b54102319",
   "metadata": {},
   "outputs": [
    {
     "data": {
      "text/plain": [
       "90"
      ]
     },
     "execution_count": 5,
     "metadata": {},
     "output_type": "execute_result"
    }
   ],
   "source": [
    "ord(\"Z\")"
   ]
  },
  {
   "cell_type": "code",
   "execution_count": 7,
   "id": "9b961a56-abd9-41ca-9919-3ee2f50a5312",
   "metadata": {},
   "outputs": [
    {
     "data": {
      "text/plain": [
       "[-10, -11, -12, -13, -14, -15, -16, -17, -18, -19]"
      ]
     },
     "execution_count": 7,
     "metadata": {},
     "output_type": "execute_result"
    }
   ],
   "source": [
    "list(range(-10, -20, -1))"
   ]
  },
  {
   "cell_type": "code",
   "execution_count": 9,
   "id": "1c786e36-e4b6-4b53-96de-e922d8577d4e",
   "metadata": {},
   "outputs": [
    {
     "data": {
      "text/plain": [
       "[10, 12, 14, 16, 18]"
      ]
     },
     "execution_count": 9,
     "metadata": {},
     "output_type": "execute_result"
    }
   ],
   "source": [
    "list(range(10, 20, 2))"
   ]
  },
  {
   "cell_type": "code",
   "execution_count": 10,
   "id": "11f650bb-43c3-4d4f-82f8-064e281a1e5c",
   "metadata": {},
   "outputs": [
    {
     "data": {
      "text/plain": [
       "False"
      ]
     },
     "execution_count": 10,
     "metadata": {},
     "output_type": "execute_result"
    }
   ],
   "source": [
    "isinstance(n1, str)"
   ]
  },
  {
   "cell_type": "code",
   "execution_count": 12,
   "id": "3390b6b2-5ee0-43db-b650-24b3756fdea5",
   "metadata": {},
   "outputs": [
    {
     "name": "stdin",
     "output_type": "stream",
     "text": [
      " 2+6\n"
     ]
    },
    {
     "data": {
      "text/plain": [
       "8"
      ]
     },
     "execution_count": 12,
     "metadata": {},
     "output_type": "execute_result"
    }
   ],
   "source": [
    "eval(input())"
   ]
  },
  {
   "cell_type": "code",
   "execution_count": 14,
   "id": "ab7c378c-5e50-4963-b224-b5b61280f9b7",
   "metadata": {},
   "outputs": [
    {
     "data": {
      "text/plain": [
       "((0, 'a'), (1, 'b'), (2, 'c'), (3, 1), (4, 2))"
      ]
     },
     "execution_count": 14,
     "metadata": {},
     "output_type": "execute_result"
    }
   ],
   "source": [
    "tuple(enumerate([\"a\", \"b\", \"c\", 1, 2]))"
   ]
  },
  {
   "cell_type": "code",
   "execution_count": 15,
   "id": "d51f6da3-3480-4d53-aa9c-854907c60e21",
   "metadata": {},
   "outputs": [
    {
     "ename": "TypeError",
     "evalue": "'<' not supported between instances of 'int' and 'str'",
     "output_type": "error",
     "traceback": [
      "\u001b[1;31m---------------------------------------------------------------------------\u001b[0m",
      "\u001b[1;31mTypeError\u001b[0m                                 Traceback (most recent call last)",
      "Cell \u001b[1;32mIn[15], line 1\u001b[0m\n\u001b[1;32m----> 1\u001b[0m \u001b[38;5;28msorted\u001b[39m([\u001b[38;5;124m\"\u001b[39m\u001b[38;5;124ma\u001b[39m\u001b[38;5;124m\"\u001b[39m, \u001b[38;5;124m\"\u001b[39m\u001b[38;5;124mb\u001b[39m\u001b[38;5;124m\"\u001b[39m, \u001b[38;5;124m\"\u001b[39m\u001b[38;5;124mc\u001b[39m\u001b[38;5;124m\"\u001b[39m, \u001b[38;5;241m1\u001b[39m, \u001b[38;5;241m2\u001b[39m])\n",
      "\u001b[1;31mTypeError\u001b[0m: '<' not supported between instances of 'int' and 'str'"
     ]
    }
   ],
   "source": [
    "sorted([\"a\", \"b\", \"c\", 1, 2])"
   ]
  },
  {
   "cell_type": "code",
   "execution_count": 17,
   "id": "c7df7c07-c4db-4c37-bdc0-99d52a3751ba",
   "metadata": {},
   "outputs": [
    {
     "data": {
      "text/plain": [
       "[2, 1, 'c', 'b', 'a']"
      ]
     },
     "execution_count": 17,
     "metadata": {},
     "output_type": "execute_result"
    }
   ],
   "source": [
    "list(reversed([\"a\", \"b\", \"c\", 1, 2]))"
   ]
  },
  {
   "cell_type": "code",
   "execution_count": 18,
   "id": "2ef54a95-e53e-4958-b1de-f952b3ebd5e6",
   "metadata": {},
   "outputs": [],
   "source": [
    "l1 = [\"a\", \"b\", \"c\", 1, 2]"
   ]
  },
  {
   "cell_type": "code",
   "execution_count": 21,
   "id": "132c706b-879d-408b-964b-6ff2020ab949",
   "metadata": {},
   "outputs": [
    {
     "data": {
      "text/plain": [
       "['a', 'b', 'c', 1, 2]"
      ]
     },
     "execution_count": 21,
     "metadata": {},
     "output_type": "execute_result"
    }
   ],
   "source": [
    "l1[::1]"
   ]
  },
  {
   "cell_type": "code",
   "execution_count": 26,
   "id": "73f56d8c-7c6f-457e-876a-b87565be6e6b",
   "metadata": {},
   "outputs": [
    {
     "data": {
      "text/plain": [
       "[2, 1, 'c', 'b', 'a']"
      ]
     },
     "execution_count": 26,
     "metadata": {},
     "output_type": "execute_result"
    }
   ],
   "source": [
    "l1[::-1]"
   ]
  },
  {
   "cell_type": "code",
   "execution_count": 30,
   "id": "ef4d5be5-06a6-4373-8f41-200b3e29c423",
   "metadata": {},
   "outputs": [
    {
     "data": {
      "text/plain": [
       "34.99"
      ]
     },
     "execution_count": 30,
     "metadata": {},
     "output_type": "execute_result"
    }
   ],
   "source": [
    "round(34.98787, 2)"
   ]
  },
  {
   "cell_type": "code",
   "execution_count": 31,
   "id": "a4825123-f262-43e4-bc4a-e0329cf2317b",
   "metadata": {},
   "outputs": [
    {
     "data": {
      "text/plain": [
       "9"
      ]
     },
     "execution_count": 31,
     "metadata": {},
     "output_type": "execute_result"
    }
   ],
   "source": [
    "pow(3, 2)"
   ]
  },
  {
   "cell_type": "code",
   "execution_count": null,
   "id": "ca2af140-1a3f-4b37-a9ac-82d2e0ef120d",
   "metadata": {},
   "outputs": [],
   "source": [
    "len, print, input, type, range, sorted"
   ]
  },
  {
   "cell_type": "code",
   "execution_count": null,
   "id": "036e2ff1-ace6-4715-9c83-d16d73ee07f0",
   "metadata": {},
   "outputs": [],
   "source": []
  },
  {
   "cell_type": "code",
   "execution_count": 32,
   "id": "c76b434b-4d56-4254-b648-8e8904de6405",
   "metadata": {},
   "outputs": [],
   "source": [
    "name = \"amit\"\n",
    "last_name = \"kumar\"\n",
    "age = 30"
   ]
  },
  {
   "cell_type": "code",
   "execution_count": null,
   "id": "06e05e62-c7bc-4ddd-8cf2-61e8bfcf8ae1",
   "metadata": {},
   "outputs": [],
   "source": [
    "%s, %d, %.f"
   ]
  },
  {
   "cell_type": "code",
   "execution_count": 47,
   "id": "aa0b24bd-9366-456f-92a2-3ba930cf78e9",
   "metadata": {},
   "outputs": [
    {
     "data": {
      "text/plain": [
       "'my name is kumar Bob and i am 56.8 years old'"
      ]
     },
     "execution_count": 47,
     "metadata": {},
     "output_type": "execute_result"
    }
   ],
   "source": [
    "\"my name is %s %s and i am %.1f years old\" %( last_name, name, 56.78  )"
   ]
  },
  {
   "cell_type": "code",
   "execution_count": 40,
   "id": "8c0bea98-ef2f-4f7b-ae65-9ab6e6a6e84c",
   "metadata": {},
   "outputs": [
    {
     "data": {
      "text/plain": [
       "'My name is 25 and I am Bob years 56.8 old.'"
      ]
     },
     "execution_count": 40,
     "metadata": {},
     "output_type": "execute_result"
    }
   ],
   "source": [
    "name = \"Bob\"\n",
    "age = 25\n",
    "\"My name is {} and I am {} years {} old.\".format(age, name, 56.8)"
   ]
  },
  {
   "cell_type": "code",
   "execution_count": 43,
   "id": "ccbffdd5-c7e5-4ccc-8014-09c9456713f5",
   "metadata": {},
   "outputs": [
    {
     "data": {
      "text/plain": [
       "'My name is Bob and I am 25 years old.'"
      ]
     },
     "execution_count": 43,
     "metadata": {},
     "output_type": "execute_result"
    }
   ],
   "source": [
    "f\"My name is {name} and I am {age} years old.\""
   ]
  },
  {
   "cell_type": "code",
   "execution_count": null,
   "id": "fbad30dc-39b5-4d7f-95fa-7623c805393d",
   "metadata": {},
   "outputs": [],
   "source": [
    "A 65"
   ]
  },
  {
   "cell_type": "code",
   "execution_count": 48,
   "id": "e5de49f1-245a-4b53-9e1d-fc5a9bc445e8",
   "metadata": {},
   "outputs": [
    {
     "data": {
      "text/plain": [
       "38"
      ]
     },
     "execution_count": 48,
     "metadata": {},
     "output_type": "execute_result"
    }
   ],
   "source": [
    "ord(\"&\")"
   ]
  },
  {
   "cell_type": "code",
   "execution_count": 51,
   "id": "a427435d-c9ca-4165-aff5-c47b66e83fd7",
   "metadata": {},
   "outputs": [
    {
     "data": {
      "text/plain": [
       "';'"
      ]
     },
     "execution_count": 51,
     "metadata": {},
     "output_type": "execute_result"
    }
   ],
   "source": [
    "chr(59)"
   ]
  },
  {
   "cell_type": "code",
   "execution_count": null,
   "id": "3f299fc7-de03-48c0-8bbe-56dddee4dde1",
   "metadata": {},
   "outputs": [],
   "source": [
    "\"F:\\\\0. The Data Psychology/1. Python\\0.1. Python_Introduction\""
   ]
  },
  {
   "cell_type": "code",
   "execution_count": null,
   "id": "98097699-8fcb-44ee-be35-b8f50d1f3e59",
   "metadata": {},
   "outputs": [],
   "source": []
  },
  {
   "cell_type": "code",
   "execution_count": null,
   "id": "4c308028-ce52-4472-a004-c33f2d38e012",
   "metadata": {},
   "outputs": [],
   "source": []
  },
  {
   "cell_type": "code",
   "execution_count": null,
   "id": "b4775f54-6b1f-4978-86f3-6d91c93f4e67",
   "metadata": {},
   "outputs": [],
   "source": []
  }
 ],
 "metadata": {
  "kernelspec": {
   "display_name": "Python 3 (ipykernel)",
   "language": "python",
   "name": "python3"
  },
  "language_info": {
   "codemirror_mode": {
    "name": "ipython",
    "version": 3
   },
   "file_extension": ".py",
   "mimetype": "text/x-python",
   "name": "python",
   "nbconvert_exporter": "python",
   "pygments_lexer": "ipython3",
   "version": "3.11.7"
  }
 },
 "nbformat": 4,
 "nbformat_minor": 5
}
