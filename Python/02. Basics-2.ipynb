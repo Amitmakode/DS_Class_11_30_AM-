{
 "cells": [
  {
   "cell_type": "code",
   "execution_count": 17,
   "id": "4859af2c-b82e-44f9-bb44-26726ad87192",
   "metadata": {},
   "outputs": [],
   "source": [
    "# reversed()\n",
    "\n",
    "#Description: Returns a reverse iterator.\n",
    "l2 = [4, 1, 2, 3]\t\t \n",
    "rev_iter = reversed(l2)"
   ]
  },
  {
   "cell_type": "code",
   "execution_count": 18,
   "id": "a059335b-f575-4662-9b8a-9498e8fae2be",
   "metadata": {},
   "outputs": [
    {
     "data": {
      "text/plain": [
       "[3, 2, 1, 4]"
      ]
     },
     "execution_count": 18,
     "metadata": {},
     "output_type": "execute_result"
    }
   ],
   "source": [
    "list(rev_iter)"
   ]
  },
  {
   "cell_type": "code",
   "execution_count": 19,
   "id": "1f804c13-be6b-45dd-bd1f-23f0dedcce44",
   "metadata": {},
   "outputs": [
    {
     "name": "stdout",
     "output_type": "stream",
     "text": [
      "3.14\n"
     ]
    }
   ],
   "source": [
    "# round()\n",
    "\n",
    "#Description: Rounds a number to a specified precision in decimal digits.\n",
    "\t\t \n",
    "num = 3.14159\n",
    "rounded_num = round(num, 2)\n",
    "print(rounded_num) "
   ]
  },
  {
   "cell_type": "code",
   "execution_count": 12,
   "id": "8cfb85c1-a61e-4573-b550-524507c3656a",
   "metadata": {},
   "outputs": [],
   "source": [
    "# zip()\n",
    "\n",
    "#Description: Returns an iterator of tuples, where the i-th tuple contains the i-th element from each of the argument sequences or iterables.\n",
    "\t\t \n",
    "lst1 = [1, 2, 3]\n",
    "lst2 = ['a', 'b', 'c']\n",
    "\n",
    "zipped = zip(lst1, lst2)"
   ]
  },
  {
   "cell_type": "code",
   "execution_count": 13,
   "id": "608caf5f-a5b2-4f6e-b4e1-164b9fafa9f9",
   "metadata": {},
   "outputs": [],
   "source": [
    "d1 = list(zipped)"
   ]
  },
  {
   "cell_type": "code",
   "execution_count": 16,
   "id": "a26521d9-90ae-460c-a5cd-57af2534ea30",
   "metadata": {},
   "outputs": [
    {
     "data": {
      "text/plain": [
       "{1: 'a', 2: 'b', 3: 'c'}"
      ]
     },
     "execution_count": 16,
     "metadata": {},
     "output_type": "execute_result"
    }
   ],
   "source": [
    "dict(d1)"
   ]
  },
  {
   "cell_type": "code",
   "execution_count": 20,
   "id": "9ce1cad1-f442-49cb-b43a-1be1e219c50e",
   "metadata": {},
   "outputs": [],
   "source": [
    "t1 = (1, 2, 3)\n",
    "t2 = ('a', 'b', 'c')"
   ]
  },
  {
   "cell_type": "code",
   "execution_count": 22,
   "id": "c5bd6954-64c4-4ed3-b6e6-a6623ae43954",
   "metadata": {},
   "outputs": [
    {
     "data": {
      "text/plain": [
       "[(1, 'a'), (2, 'b'), (3, 'c')]"
      ]
     },
     "execution_count": 22,
     "metadata": {},
     "output_type": "execute_result"
    }
   ],
   "source": [
    "list(zip(t1, t2))"
   ]
  },
  {
   "cell_type": "code",
   "execution_count": null,
   "id": "163f0f94-9deb-4893-8356-f9db72ddb264",
   "metadata": {},
   "outputs": [],
   "source": []
  },
  {
   "cell_type": "code",
   "execution_count": 23,
   "id": "cc863355-ce9f-480d-8235-3a4d089a5218",
   "metadata": {},
   "outputs": [
    {
     "name": "stdout",
     "output_type": "stream",
     "text": [
      "Hello\n",
      "World\n"
     ]
    }
   ],
   "source": [
    "# \\n new line\n",
    "print(\"Hello\\nWorld\")"
   ]
  },
  {
   "cell_type": "code",
   "execution_count": 24,
   "id": "0b5620ae-701c-4d7f-b9a4-402a33f90017",
   "metadata": {},
   "outputs": [
    {
     "data": {
      "text/plain": [
       "'Hello\\nWorld'"
      ]
     },
     "execution_count": 24,
     "metadata": {},
     "output_type": "execute_result"
    }
   ],
   "source": [
    "\"Hello\\nWorld\""
   ]
  },
  {
   "cell_type": "code",
   "execution_count": 25,
   "id": "212b3aba-4c82-4f01-9da6-93c444ea158c",
   "metadata": {},
   "outputs": [
    {
     "name": "stdout",
     "output_type": "stream",
     "text": [
      "Name:\tAlice\n"
     ]
    }
   ],
   "source": [
    "# \\t tab space\n",
    "print(\"Name:\\tAlice\")    "
   ]
  },
  {
   "cell_type": "code",
   "execution_count": null,
   "id": "54ba8e0a-e4e9-414b-a419-59c8c86cf41c",
   "metadata": {},
   "outputs": [],
   "source": [
    "# \\\\ (Backslash)\n",
    "\n",
    "path = \"C:\\\\Users\\\\John\\\\Documents\"\n",
    "print(path)"
   ]
  },
  {
   "cell_type": "code",
   "execution_count": null,
   "id": "7bec9d08-4af1-4fdd-80fa-932514b36eb0",
   "metadata": {},
   "outputs": [],
   "source": [
    "\"F:/0. The Data Psychology\\\\1. Python\\\\EDA\\\\fsds-EDA.ipynb\""
   ]
  },
  {
   "cell_type": "code",
   "execution_count": 33,
   "id": "7faae699-b68f-4fb9-a511-7e653a081550",
   "metadata": {},
   "outputs": [],
   "source": [
    "lang = 'hello \"Python\"'"
   ]
  },
  {
   "cell_type": "code",
   "execution_count": 34,
   "id": "7432cbc5-62cb-42da-a8a7-73a10cccf0e1",
   "metadata": {},
   "outputs": [
    {
     "name": "stdout",
     "output_type": "stream",
     "text": [
      "hello \"Python\"\n"
     ]
    }
   ],
   "source": [
    "print(lang)"
   ]
  },
  {
   "cell_type": "markdown",
   "id": "603f086d-817d-4aed-a368-5fde24cb5044",
   "metadata": {},
   "source": [
    "### String Formating:-"
   ]
  },
  {
   "cell_type": "code",
   "execution_count": 35,
   "id": "33e9835f-cb60-4a81-9e94-f11d70bd3ba5",
   "metadata": {},
   "outputs": [],
   "source": [
    "name = \"Alice\"\n",
    "lastname = \"david\"\n",
    "age = 30"
   ]
  },
  {
   "cell_type": "code",
   "execution_count": 36,
   "id": "2dedf725-994b-45be-8a80-e290c8837ad4",
   "metadata": {},
   "outputs": [
    {
     "data": {
      "text/plain": [
       "'Alice'"
      ]
     },
     "execution_count": 36,
     "metadata": {},
     "output_type": "execute_result"
    }
   ],
   "source": [
    "name"
   ]
  },
  {
   "cell_type": "code",
   "execution_count": 38,
   "id": "62260742-8bd4-4f05-a4dc-9313da1b01e6",
   "metadata": {},
   "outputs": [
    {
     "name": "stdout",
     "output_type": "stream",
     "text": [
      "my name is Alice last name david and my age is 30\n"
     ]
    }
   ],
   "source": [
    "print(\"my name is\", name, \"last name\", lastname, \"and my age is\", age)"
   ]
  },
  {
   "cell_type": "code",
   "execution_count": 43,
   "id": "66d9bc0e-feb4-48d9-ae0c-1d680cd8fd5f",
   "metadata": {},
   "outputs": [
    {
     "name": "stdout",
     "output_type": "stream",
     "text": [
      "My name is Alice david and I am 30 years old.\n"
     ]
    }
   ],
   "source": [
    "formatted_string = \"My name is %s %s and I am %d years old.\" % (name, lastname, age)\n",
    "print(formatted_string)"
   ]
  },
  {
   "cell_type": "code",
   "execution_count": 45,
   "id": "96ecba95-dcc2-437a-966e-19e0d7ede616",
   "metadata": {},
   "outputs": [
    {
     "data": {
      "text/plain": [
       "[(1, 'a'), (2, 'b'), (3, 'c')]"
      ]
     },
     "execution_count": 45,
     "metadata": {},
     "output_type": "execute_result"
    }
   ],
   "source": [
    "list(enumerate([\"a\", \"b\", \"c\"], start=1))"
   ]
  },
  {
   "cell_type": "code",
   "execution_count": 49,
   "id": "afeff83e-d70b-4a69-999a-86d2362803c9",
   "metadata": {},
   "outputs": [
    {
     "data": {
      "text/plain": [
       "False"
      ]
     },
     "execution_count": 49,
     "metadata": {},
     "output_type": "execute_result"
    }
   ],
   "source": [
    "all([True, True, False])"
   ]
  },
  {
   "cell_type": "code",
   "execution_count": 50,
   "id": "5506bf9b-373f-49ac-aef6-0498bdeb37d0",
   "metadata": {},
   "outputs": [
    {
     "data": {
      "text/plain": [
       "True"
      ]
     },
     "execution_count": 50,
     "metadata": {},
     "output_type": "execute_result"
    }
   ],
   "source": [
    "any([True, True, False])"
   ]
  },
  {
   "cell_type": "code",
   "execution_count": 51,
   "id": "2c90ea6e-6f09-429a-86c8-ea833bc73643",
   "metadata": {},
   "outputs": [
    {
     "data": {
      "text/plain": [
       "False"
      ]
     },
     "execution_count": 51,
     "metadata": {},
     "output_type": "execute_result"
    }
   ],
   "source": [
    "all([1,1,0])"
   ]
  },
  {
   "cell_type": "code",
   "execution_count": null,
   "id": "a6e76831-be73-460a-85a9-a8266f269f61",
   "metadata": {},
   "outputs": [],
   "source": []
  }
 ],
 "metadata": {
  "kernelspec": {
   "display_name": "Python 3 (ipykernel)",
   "language": "python",
   "name": "python3"
  },
  "language_info": {
   "codemirror_mode": {
    "name": "ipython",
    "version": 3
   },
   "file_extension": ".py",
   "mimetype": "text/x-python",
   "name": "python",
   "nbconvert_exporter": "python",
   "pygments_lexer": "ipython3",
   "version": "3.11.7"
  }
 },
 "nbformat": 4,
 "nbformat_minor": 5
}
